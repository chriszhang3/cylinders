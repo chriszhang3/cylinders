{
 "cells": [
  {
   "cell_type": "code",
   "execution_count": 3,
   "id": "de679a04",
   "metadata": {},
   "outputs": [],
   "source": [
    "from flatsurf import *\n",
    "from surface_dynamics import *"
   ]
  },
  {
   "cell_type": "code",
   "execution_count": 59,
   "id": "3d0c3899",
   "metadata": {},
   "outputs": [],
   "source": [
    "h31_c4 = \"\"\"(0)-(2) (1,3,2)-(4,5) (4)-(3) (5)-(0,1)\n",
    "(0)-(2) (1,2,3)-(4,5) (4)-(3) (5)-(0,1)\n",
    "(0,4,1)-(0,5) (2)-(4) (3)-(1) (5)-(2,3)\n",
    "(0,1)-(5) (2,5)-(3,4) (3)-(0) (4)-(1,2)\n",
    "(0,1)-(0,3) (2,3)-(4,5) (4)-(2) (5)-(1)\n",
    "(0,4)-(5) (1,5)-(2,4,3) (2)-(1) (3)-(0)\n",
    "(0,4)-(5) (1,5)-(2,3,4) (2)-(1) (3)-(0)\n",
    "(0,1)-(0,4,5) (2,3)-(1) (4)-(2) (5)-(3)\n",
    "(0,3)-(5) (1)-(2) (2,5)-(3,4) (4)-(0,1)\n",
    "(0,1)-(0,2) (2)-(3) (3,4)-(1,5) (5)-(4)\"\"\"\n",
    "h211_c4 = \"\"\"(0,1,2)-(3,6,4,5) (3,4)-(2) (5)-(0) (6)-(1)\n",
    "(0,1)-(0,3) (2,5)-(1,6) (3,6)-(4,5) (4)-(2)\n",
    "(0,2)-(0,5) (1,3)-(1,6) (4,5)-(3) (6)-(2,4)\n",
    "(0,2)-(6) (1,4)-(3,5) (3,6)-(2,4) (5)-(0,1)\n",
    "(0,1)-(4) (2,4,3)-(5,6) (5)-(0,2) (6)-(1,3)\n",
    "(0,3,1)-(0,6) (2,6)-(4,5) (4)-(3) (5)-(1,2)\n",
    "(0,1)-(0,4) (2,3,4)-(5,6) (5)-(2) (6)-(1,3)\n",
    "(0,3,1)-(0,6) (2,6)-(4,5) (4)-(1) (5)-(2,3)\n",
    "(0,1)-(0,4) (2,4,3)-(5,6) (5)-(2) (6)-(1,3)\n",
    "(0,2,1)-(5,6) (3,6)-(0,4,1) (4)-(2) (5)-(3)\n",
    "(0,1,2)-(0,1,6) (3)-(5) (4,5)-(2) (6)-(3,4)\n",
    "(0,5,2)-(3) (1,3)-(1,6) (4)-(5) (6)-(0,4,2)\n",
    "(0,4,1)-(5,6) (2,5)-(4) (3)-(2) (6)-(0,3,1)\n",
    "(0,1,4)-(0,1,6) (2,3)-(2,5) (5)-(4) (6)-(3)\n",
    "(0,3,1)-(6) (2)-(3) (4,6)-(0,5,1) (5)-(2,4)\n",
    "(0,2,1)-(5,6) (3,6)-(0,4,1) (4)-(3) (5)-(2)\n",
    "(0)-(1) (1,3,4,2)-(5,6) (5)-(0,4) (6)-(2,3)\n",
    "(0)-(1,2) (1,4,2,3)-(5,6) (5)-(4) (6)-(0,3)\n",
    "(0,5,4,1)-(0,6) (2)-(4) (3)-(1,5) (6)-(2,3)\n",
    "(0,4,3,1)-(5,6) (2)-(3) (5)-(4) (6)-(0,2,1)\n",
    "(0,4,3,1)-(5,6) (2)-(4) (5)-(3) (6)-(0,2,1)\n",
    "(0,1,5,2)-(0,1,6) (3)-(5) (4)-(2) (6)-(3,4)\n",
    "(0,5,4)-(6) (1,6)-(2,4,3,5) (2)-(1) (3)-(0)\n",
    "(0,1,2)-(0,5,1,6) (3,4)-(2) (5)-(3) (6)-(4)\n",
    "(0,5,4)-(6) (1,6)-(2,5,3,4) (2)-(1) (3)-(0)\n",
    "(0,4)-(6) (1,2)-(5) (3)-(0) (5,6)-(1,4,2,3)\n",
    "(0,6)-(2,5,3,4) (1,4)-(6) (2,3)-(1) (5)-(0)\n",
    "(0,1)-(0,3,5,6) (2,4)-(1) (3,6)-(4) (5)-(2)\n",
    "(0,4,1)-(6) (2)-(3) (3,6)-(4,5) (5)-(0,2,1)\n",
    "(0,1,2)-(1,6) (3,4)-(0,5,2) (5)-(4) (6)-(3)\n",
    "(0,1,2)-(0,1,6) (3,4)-(2,5) (5)-(4) (6)-(3)\n",
    "(0,3,1)-(6) (2)-(4) (4,6)-(0,5,1) (5)-(2,3)\n",
    "(0)-(3) (1,3,2,4)-(5,6) (5)-(4) (6)-(0,2,1)\n",
    "(0)-(3) (1,4,2,3)-(5,6) (5)-(4) (6)-(0,2,1)\n",
    "(0,3,1,2)-(0,6,1) (4)-(2) (5)-(3) (6)-(4,5)\n",
    "(0,4,1)-(5,6) (2,3)-(4) (5)-(2) (6)-(0,3,1)\n",
    "(0,1,2)-(0,1,6) (3,6)-(4,5) (4)-(3) (5)-(2)\n",
    "(0,4,2)-(5,6) (1,3)-(0,1,2) (5)-(4) (6)-(3)\n",
    "(0,2,1)-(6) (3,6)-(4,5) (4)-(2) (5)-(0,3,1)\n",
    "(0,2)-(5) (1,3)-(6) (4)-(0,1) (5,6)-(2,4,3)\n",
    "(0,1)-(0,2,5) (2,4)-(6) (3,6)-(1,4) (5)-(3)\n",
    "(0,1)-(0,2) (2,5)-(6) (3,6)-(1,5,4) (4)-(3)\n",
    "(0,1)-(0,2,5) (2)-(3) (3,6)-(1,4) (4,5)-(6)\n",
    "(0,1)-(0,2) (2,4)-(6) (3,6)-(1,5,4) (5)-(3)\n",
    "(0,2,1)-(6) (3,6)-(0,5,4,1) (4)-(3) (5)-(2)\n",
    "(0,2,1)-(6) (3,6)-(0,5,4,1) (4)-(2) (5)-(3)\n",
    "(0,1,2)-(0,1,5,6) (3,4)-(2) (5)-(4) (6)-(3)\n",
    "(0,2,1)-(5,6) (3,4)-(0,2,1) (5)-(4) (6)-(3)\n",
    "(0,2,1)-(6) (3,6)-(4,5) (4)-(3) (5)-(0,2,1)\n",
    "(0,3,1,2)-(4,5,6) (4)-(2) (5)-(3) (6)-(0,1)\"\"\""
   ]
  },
  {
   "cell_type": "code",
   "execution_count": 53,
   "id": "6d6bdb4d",
   "metadata": {},
   "outputs": [],
   "source": [
    "def string_to_int_tuple(string):\n",
    "    for char in \"()\":\n",
    "        string = string.replace(char,'')\n",
    "    str_split = string.split(',')\n",
    "    return tuple(int(a) for a in str_split)\n",
    "\n",
    "def parse_cylinder_diagrams(diagram_string):\n",
    "    diagrams_list = diagram_string.split('\\n')\n",
    "    output = []\n",
    "    for diagram in diagrams_list:\n",
    "        cyl_diag = []\n",
    "        diagram_pieces = diagram.split()\n",
    "        for piece in diagram_pieces:\n",
    "            a, b = piece.split('-')\n",
    "            cyl_diag.append((string_to_int_tuple(a), string_to_int_tuple(b)))\n",
    "        output.append(CylinderDiagram(cyl_diag))\n",
    "    return output"
   ]
  },
  {
   "cell_type": "code",
   "execution_count": 60,
   "id": "55d30234",
   "metadata": {},
   "outputs": [],
   "source": [
    "diagrams = parse_cylinder_diagrams(h211_c4)"
   ]
  },
  {
   "cell_type": "code",
   "execution_count": 61,
   "id": "c607e1f2",
   "metadata": {},
   "outputs": [],
   "source": [
    "o = diagrams[0].origamis()"
   ]
  },
  {
   "cell_type": "code",
   "execution_count": 62,
   "id": "d1e8a3e8",
   "metadata": {},
   "outputs": [
    {
     "data": {
      "image/png": "[encoded data removed]",
      "text/plain": [
       "Graphics object consisting of 103 graphics primitives"
      ]
     },
     "execution_count": 62,
     "metadata": {},
     "output_type": "execute_result"
    }
   ],
   "source": [
    "o[0].plot()"
   ]
  },
  {
   "cell_type": "code",
   "execution_count": null,
   "id": "570f8dc1",
   "metadata": {},
   "outputs": [],
   "source": []
  }
 ],
 "metadata": {
  "kernelspec": {
   "display_name": "SageMath 9.7",
   "language": "sage",
   "name": "sagemath-9.7"
  },
  "language_info": {
   "codemirror_mode": {
    "name": "ipython",
    "version": 3
   },
   "file_extension": ".py",
   "mimetype": "text/x-python",
   "name": "python",
   "nbconvert_exporter": "python",
   "pygments_lexer": "ipython3",
   "version": "3.10.5"
  }
 },
 "nbformat": 4,
 "nbformat_minor": 5
}

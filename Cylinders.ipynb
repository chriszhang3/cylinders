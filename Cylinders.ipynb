{
 "cells": [
  {
   "cell_type": "code",
   "execution_count": 93,
   "id": "de679a04",
   "metadata": {},
   "outputs": [],
   "source": [
    "from surface_dynamics.databases.flat_surfaces import CylinderDiagrams\n",
    "from surface_dynamics import AbelianStratum\n",
    "import os"
   ]
  },
  {
   "cell_type": "code",
   "execution_count": 134,
   "id": "6d6bdb4d",
   "metadata": {},
   "outputs": [],
   "source": [
    "def open_file(filename, folder):\n",
    "    with open(os.path.join(folder, filename), 'r') as file:\n",
    "        return file.read() \n",
    "\n",
    "def string_to_int_tuple(string):\n",
    "    for char in \"()\":\n",
    "        string = string.replace(char,'')\n",
    "    str_split = string.split(',')\n",
    "    return tuple(int(a) for a in str_split)\n",
    "\n",
    "def parse_cylinder_diagrams(diagram_string):\n",
    "    diagrams_list = diagram_string.split('\\n')\n",
    "    output = []\n",
    "    for diagram in diagrams_list:\n",
    "        if diagram == '':\n",
    "            continue\n",
    "        cyl_diag = []\n",
    "        diagram_pieces = diagram.split()\n",
    "        for piece in diagram_pieces:\n",
    "            a, b = piece.split('-')\n",
    "            cyl_diag.append((string_to_int_tuple(a), string_to_int_tuple(b)))\n",
    "        output.append(CylinderDiagram(cyl_diag))\n",
    "    return output\n",
    "\n",
    "class Stratum:\n",
    "    def __init__(self, k: tuple):\n",
    "        self.stratum = AbelianStratum(*k)\n",
    "        self.components = self.stratum.components()\n",
    "    \n",
    "class Component:\n",
    "    def __init__(self, component):\n",
    "        self.component = component\n",
    "    \n",
    "    def get_cylinder_diagrams(self, num_cylinders):\n",
    "        C = CylinderDiagrams()\n",
    "        return C.get_iterator(self.component, num_cylinders)\n",
    "\n",
    "def remove_inverses(cylinder_list):\n",
    "    current = []\n",
    "    current_and_inverses = []\n",
    "    \n",
    "    print(list(cylinder_list))\n",
    "    for c in cylinder_list:\n",
    "        seen = False\n",
    "        for d in current_and_inverses:\n",
    "            if c.is_isomorphic(d):\n",
    "                seen = True\n",
    "        if not seen:\n",
    "            current.append(c)\n",
    "            current_and_inverses.append(c.inverse())\n",
    "    return current"
   ]
  },
  {
   "cell_type": "code",
   "execution_count": 142,
   "id": "57ab07e9",
   "metadata": {},
   "outputs": [
    {
     "name": "stdout",
     "output_type": "stream",
     "text": [
      "H_3(2, 1^2)\n",
      "[H_3(2, 1^2)^c]\n",
      "8\n"
     ]
    }
   ],
   "source": [
    "s = StratumCylinderDiagram((2, 1, 1))\n",
    "calH = Component(s.components[0])\n",
    "diagrams = list(calH.get_cylinder_diagrams(5))\n",
    "print(s.stratum)\n",
    "print(s.components)\n",
    "print(len(diagrams))"
   ]
  },
  {
   "cell_type": "code",
   "execution_count": 147,
   "id": "23761ba6",
   "metadata": {},
   "outputs": [
    {
     "data": {
      "text/plain": [
       "[(0)-(2) (1)-(3) (2,4,3)-(5,6) (5)-(4) (6)-(0,1),\n",
       " (0,4)-(6) (1)-(0) (2)-(3) (3,6)-(4,5) (5)-(1,2),\n",
       " (0,1)-(0,6) (2)-(5) (3)-(4) (4,5)-(1) (6)-(2,3),\n",
       " (0,2)-(6) (1)-(0) (3,6)-(4,5) (4)-(3) (5)-(1,2),\n",
       " (0,2)-(6) (1)-(3) (3,6)-(4,5) (4)-(0) (5)-(1,2),\n",
       " (0,1)-(0,2) (2)-(3) (3,4)-(5,6) (5)-(4) (6)-(1),\n",
       " (0,6)-(4,5) (1,2)-(3,6) (3)-(2) (4)-(1) (5)-(0),\n",
       " (0,6)-(4,5) (1,2)-(3,6) (3)-(0) (4)-(2) (5)-(1)]"
      ]
     },
     "execution_count": 147,
     "metadata": {},
     "output_type": "execute_result"
    }
   ],
   "source": [
    "diagrams"
   ]
  },
  {
   "cell_type": "code",
   "execution_count": 143,
   "id": "c607e1f2",
   "metadata": {},
   "outputs": [],
   "source": [
    "[(0)-(2) (1)-(3) (2,4,3)-(5,6) (5)-(4) (6)-(0,1),\n",
    " (0,4)-(6) (1)-(0) (2)-(3) (3,6)-(4,5) (5)-(1,2),\n",
    " (0,1)-(0,6) (2)-(5) (3)-(4) (4,5)-(1) (6)-(2,3),\n",
    " (0,2)-(6) (1)-(0) (3,6)-(4,5) (4)-(3) (5)-(1,2),\n",
    " (0,2)-(6) (1)-(3) (3,6)-(4,5) (4)-(0) (5)-(1,2),\n",
    " (0,1)-(0,2) (2)-(3) (3,4)-(5,6) (5)-(4) (6)-(1),\n",
    " (0,6)-(4,5) (1,2)-(3,6) (3)-(2) (4)-(1) (5)-(0),\n",
    " (0,6)-(4,5) (1,2)-(3,6) (3)-(0) (4)-(2) (5)-(1)]"
   ]
  },
  {
   "cell_type": "code",
   "execution_count": 149,
   "id": "d1e8a3e8",
   "metadata": {},
   "outputs": [
    {
     "data": {
      "text/plain": [
       "((2,3)(5,6), (1,3)(4,7))"
      ]
     },
     "execution_count": 149,
     "metadata": {},
     "output_type": "execute_result"
    }
   ],
   "source": [
    "d = diagrams[3]\n",
    "d.top_perm(), d.bot_perm()"
   ]
  },
  {
   "cell_type": "code",
   "execution_count": null,
   "id": "5b646e27",
   "metadata": {},
   "outputs": [],
   "source": []
  }
 ],
 "metadata": {
  "kernelspec": {
   "display_name": "SageMath 9.5",
   "language": "sage",
   "name": "sagemath"
  },
  "language_info": {
   "codemirror_mode": {
    "name": "ipython",
    "version": 3
   },
   "file_extension": ".py",
   "mimetype": "text/x-python",
   "name": "python",
   "nbconvert_exporter": "python",
   "pygments_lexer": "ipython3",
   "version": "3.10.6"
  }
 },
 "nbformat": 4,
 "nbformat_minor": 5
}

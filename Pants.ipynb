{
 "cells": [
  {
   "cell_type": "code",
   "execution_count": 16,
   "id": "c2113a94",
   "metadata": {},
   "outputs": [],
   "source": [
    "import networkx as nx\n",
    "import matplotlib.pyplot as plt\n",
    "from surface_dynamics.databases.flat_surfaces import CylinderDiagrams\n",
    "from surface_dynamics import AbelianStratum"
   ]
  },
  {
   "cell_type": "code",
   "execution_count": 17,
   "id": "9cd75d28",
   "metadata": {},
   "outputs": [],
   "source": [
    "G = nx.DiGraph()\n",
    "G.add_node(1)\n",
    "G.add_nodes_from([2, 3])\n",
    "G.add_edge(1, 2)"
   ]
  },
  {
   "cell_type": "code",
   "execution_count": 24,
   "id": "25e1fd16",
   "metadata": {},
   "outputs": [
    {
     "data": {
      "text/plain": [
       "[(0)-(2) (1,2,3)-(4,5) (4)-(3) (5)-(0,1),\n",
       " (0,3)-(5) (1)-(2) (2,5)-(3,4) (4)-(0,1),\n",
       " (0,1)-(0,2) (2)-(3) (3,4)-(1,5) (5)-(4),\n",
       " (0,1)-(0,4,5) (2,3)-(1) (4)-(2) (5)-(3)]"
      ]
     },
     "execution_count": 24,
     "metadata": {},
     "output_type": "execute_result"
    }
   ],
   "source": [
    "C = CylinderDiagrams()\n",
    "a = AbelianStratum(3,1).unique_component()\n",
    "l = list(C.get_iterator(a, 4))\n",
    "l"
   ]
  },
  {
   "cell_type": "code",
   "execution_count": 28,
   "id": "0855b243",
   "metadata": {},
   "outputs": [
    {
     "data": {
      "text/plain": [
       "[(0, 2), (1, 4), (1, 4), (1, 4), (4, 3), (5, 0)]"
      ]
     },
     "execution_count": 28,
     "metadata": {},
     "output_type": "execute_result"
    }
   ],
   "source": [
    "cd = l[0]\n",
    "cd._bot_to_cyl"
   ]
  },
  {
   "cell_type": "code",
   "execution_count": 30,
   "id": "c9758cb1",
   "metadata": {},
   "outputs": [
    {
     "data": {
      "text/plain": [
       "[(5, 0), (5, 0), (0, 2), (4, 3), (1, 4), (1, 4)]"
      ]
     },
     "execution_count": 30,
     "metadata": {},
     "output_type": "execute_result"
    }
   ],
   "source": [
    "cd._top_to_cyl"
   ]
  },
  {
   "cell_type": "code",
   "execution_count": 31,
   "id": "e18b08e6",
   "metadata": {},
   "outputs": [
    {
     "data": {
      "text/plain": [
       "[((0,), (2,)), ((1, 2, 3), (4, 5)), ((4,), (3,)), ((5,), (0, 1))]"
      ]
     },
     "execution_count": 31,
     "metadata": {},
     "output_type": "execute_result"
    }
   ],
   "source": [
    "def valid_cylinder_equivalence_classes(cyl_diag, num_classes, free_cylinders = )"
   ]
  },
  {
   "cell_type": "code",
   "execution_count": 15,
   "id": "b250dd85",
   "metadata": {},
   "outputs": [
    {
     "data": {
      "image/png": "[encoded data removed]",
      "text/plain": [
       "<Figure size 432x288 with 1 Axes>"
      ]
     },
     "metadata": {},
     "output_type": "display_data"
    }
   ],
   "source": [
    "nx.draw(G, with_labels=True, font_weight='bold')"
   ]
  },
  {
   "cell_type": "code",
   "execution_count": null,
   "id": "53746ab4",
   "metadata": {},
   "outputs": [],
   "source": []
  }
 ],
 "metadata": {
  "kernelspec": {
   "display_name": "SageMath 9.5",
   "language": "sage",
   "name": "sagemath"
  },
  "language_info": {
   "codemirror_mode": {
    "name": "ipython",
    "version": 3
   },
   "file_extension": ".py",
   "mimetype": "text/x-python",
   "name": "python",
   "nbconvert_exporter": "python",
   "pygments_lexer": "ipython3",
   "version": "3.10.6"
  }
 },
 "nbformat": 4,
 "nbformat_minor": 5
}

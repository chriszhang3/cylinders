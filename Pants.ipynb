{
 "cells": [
  {
   "cell_type": "code",
   "execution_count": 3,
   "id": "c2113a94",
   "metadata": {},
   "outputs": [],
   "source": [
    "import networkx as nx\n",
    "import matplotlib.pyplot as plt\n",
    "from surface_dynamics.databases.flat_surfaces import CylinderDiagrams\n",
    "from surface_dynamics import AbelianStratum"
   ]
  },
  {
   "cell_type": "code",
   "execution_count": 4,
   "id": "9cd75d28",
   "metadata": {},
   "outputs": [],
   "source": [
    "G = nx.DiGraph()\n",
    "G.add_node(1)\n",
    "G.add_nodes_from([2, 3])\n",
    "G.add_edge(1, 2)"
   ]
  },
  {
   "cell_type": "code",
   "execution_count": 5,
   "id": "25e1fd16",
   "metadata": {},
   "outputs": [
    {
     "data": {
      "text/plain": [
       "[(0)-(2) (1,2,3)-(4,5) (4)-(3) (5)-(0,1),\n",
       " (0,3)-(5) (1)-(2) (2,5)-(3,4) (4)-(0,1),\n",
       " (0,1)-(0,2) (2)-(3) (3,4)-(1,5) (5)-(4),\n",
       " (0,1)-(0,4,5) (2,3)-(1) (4)-(2) (5)-(3)]"
      ]
     },
     "execution_count": 5,
     "metadata": {},
     "output_type": "execute_result"
    }
   ],
   "source": [
    "C = CylinderDiagrams()\n",
    "a = AbelianStratum(3,1).unique_component()\n",
    "l = list(C.get_iterator(a, 4))\n",
    "l"
   ]
  },
  {
   "cell_type": "code",
   "execution_count": 37,
   "id": "0855b243",
   "metadata": {},
   "outputs": [
    {
     "name": "stdout",
     "output_type": "stream",
     "text": [
      "6\n"
     ]
    },
    {
     "data": {
      "text/plain": [
       "[((0,), (2,)), ((1, 2, 3), (4, 5)), ((4,), (3,)), ((5,), (0, 1))]"
      ]
     },
     "execution_count": 37,
     "metadata": {},
     "output_type": "execute_result"
    }
   ],
   "source": [
    "cd = l[0]\n",
    "print(cd.degree())\n",
    "cd.cylinders()"
   ]
  },
  {
   "cell_type": "code",
   "execution_count": 33,
   "id": "e18b08e6",
   "metadata": {},
   "outputs": [],
   "source": [
    "class CylinderClasses:\n",
    "    def __init__(self, cyl_diag, classes):\n",
    "        self.cyl_diag = cyl_diag\n",
    "        self.classes = classes\n",
    "\n",
    "def valid_cylinder_equivalence_classes(cyl_diag, num_classes, free_cylinders = True):\n",
    "    cylinders = cyl_diag.cylinders()\n",
    "    \n",
    "    digraph_data = [[None, None] for _ in range(cd.degree())]\n",
    "    for i, (bot, top) in enumerate(cyl_diag.cylinders()):\n",
    "        for separatrix in bot:\n",
    "            digraph_data[separatrix][0] = i\n",
    "        for separatrix in top:\n",
    "            digraph_data[separatrix][1] = i\n",
    "    print(digraph_data)\n",
    "    \n",
    "    G = nx.DiGraph()\n",
    "    G.add_nodes_from(range(len(cylinders)))\n",
    "    for source, dest in digraph_data:\n",
    "        G.add_edge(source, dest)\n",
    "    \n",
    "    nx.draw(G, with_labels=True, font_weight='bold')"
   ]
  },
  {
   "cell_type": "code",
   "execution_count": 34,
   "id": "9c07640b",
   "metadata": {},
   "outputs": [
    {
     "name": "stdout",
     "output_type": "stream",
     "text": [
      "[[0, 3], [1, 3], [1, 0], [1, 2], [2, 1], [3, 1]]\n"
     ]
    },
    {
     "data": {
      "image/png": "[encoded data removed]",
      "text/plain": [
       "<Figure size 432x288 with 1 Axes>"
      ]
     },
     "metadata": {},
     "output_type": "display_data"
    }
   ],
   "source": [
    "valid_cylinder_equivalence_classes(cd, 2)"
   ]
  },
  {
   "cell_type": "code",
   "execution_count": null,
   "id": "6c62466d",
   "metadata": {},
   "outputs": [],
   "source": []
  }
 ],
 "metadata": {
  "kernelspec": {
   "display_name": "SageMath 9.7",
   "language": "sage",
   "name": "sagemath-9.7"
  },
  "language_info": {
   "codemirror_mode": {
    "name": "ipython",
    "version": 3
   },
   "file_extension": ".py",
   "mimetype": "text/x-python",
   "name": "python",
   "nbconvert_exporter": "python",
   "pygments_lexer": "ipython3",
   "version": "3.10.5"
  }
 },
 "nbformat": 4,
 "nbformat_minor": 5
}

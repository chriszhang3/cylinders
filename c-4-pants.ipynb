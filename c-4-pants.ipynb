{
 "cells": [
  {
   "cell_type": "code",
   "execution_count": 1,
   "id": "de679a04",
   "metadata": {},
   "outputs": [],
   "source": [
    "from surface_dynamics.databases.flat_surfaces import CylinderDiagrams\n",
    "from surface_dynamics import AbelianStratum\n",
    "from utils import find_generic_pants"
   ]
  },
  {
   "cell_type": "code",
   "execution_count": 3,
   "id": "4409f99c",
   "metadata": {},
   "outputs": [],
   "source": [
    "C = CylinderDiagrams()\n",
    "strata = []\n",
    "strata.append(AbelianStratum(2, 2).components()[1])\n",
    "strata.append(AbelianStratum(3, 1).components()[0])\n",
    "strata.append(AbelianStratum(2, 1, 1).components()[0])\n",
    "strata.append(AbelianStratum(1, 1, 1, 1).components()[0])"
   ]
  },
  {
   "cell_type": "code",
   "execution_count": 4,
   "id": "5b646e27",
   "metadata": {},
   "outputs": [
    {
     "name": "stdout",
     "output_type": "stream",
     "text": [
      "H_3(2^2)^odd\n",
      "H_3(3, 1)^c\n",
      "H_3(2, 1^2)^c\n",
      "(0,1,2)-(0,1,6) (3,6)-(4,5) (4)-(3) (5)-(2) 0\n",
      "(0,1,2)-(0,1,5,6) (3,4)-(2) (5)-(4) (6)-(3) 0\n",
      "(0,1,2)-(0,5,1,6) (3,4)-(2) (5)-(3) (6)-(4) 0\n",
      "H_3(1^4)^c\n",
      "(0,1,2)-(0,5,1,6) (3,7)-(2,4) (4,5)-(7) (6)-(3) 0\n",
      "(0,1,2)-(0,1,5,6,7) (3,4)-(2) (5,7)-(4) (6)-(3) 0\n",
      "(0,2,4)-(0,2,3,1) (1,5,3)-(6,7) (6)-(5) (7)-(4) 0\n",
      "(0,2,3,1)-(0,6,1,2,7) (4,5)-(3) (6)-(4) (7)-(5) 0\n"
     ]
    }
   ],
   "source": [
    "\"\"\" This script finds 4 cylinder digrams that contains a 3 cylinder pair of \n",
    "pants where the 4th cylinder has at least two nested cylinders.\"\"\"\n",
    "total_cylinders = set(range(4))\n",
    "for H in strata:\n",
    "    cylinders = list(C.get_iterator(H, 4))\n",
    "    print(H)\n",
    "    for cd in cylinders:\n",
    "        pants = find_generic_pants(cd)\n",
    "        if pants:\n",
    "            non_pants = total_cylinders - set(pants[0])\n",
    "            for cyl in non_pants:\n",
    "                bot, top = cd.cylinders()[cyl]\n",
    "                intersection = set(top).intersection(set(bot))\n",
    "                if len(intersection) > 1:\n",
    "                    print(cd, cyl)"
   ]
  },
  {
   "cell_type": "code",
   "execution_count": 18,
   "id": "74ad5ac2",
   "metadata": {},
   "outputs": [
    {
     "name": "stdout",
     "output_type": "stream",
     "text": [
      "H_3(2^2)^odd\n",
      "H_3(3, 1)^c\n",
      "H_3(2, 1^2)^c\n",
      "(0)-(1) (1,3,4,2)-(5,6) (5)-(0,4) (6)-(2,3) [2, 3, 1] 3 1\n",
      "H_3(1^4)^c\n",
      "(0,2,1)-(7) (3)-(2) (4,5)-(6) (6,7)-(0,5,3,4,1) [2, 0, 3] 2 3\n"
     ]
    }
   ],
   "source": [
    "for H in strata:\n",
    "    cylinders = list(C.get_iterator(H, 4))\n",
    "    print(H)\n",
    "    for cd in cylinders:\n",
    "        find_pants = find_generic_pants(cd)\n",
    "        if find_pants and len(find_pants[0]) == 3:\n",
    "            pants = find_pants[0]\n",
    "            tops = [cd.cylinders()[c][0] for c in pants]\n",
    "            bots = [cd.cylinders()[c][1] for c in pants]\n",
    "            for i in range(3):\n",
    "                for j in range(i+1, 3):\n",
    "                    if set(tops[i]).issubset(bots[j]) and set(bots[i]).issubset(tops[j]):\n",
    "                        if len(tops[i]) > 1 or len(bots[i]) > 1:\n",
    "                            print(cd, pants, pants[i], pants[j])\n",
    "                    if set(tops[j]).issubset(bots[i]) and set(bots[j]).issubset(tops[i]):\n",
    "                        if len(tops[j] > 1 or len(bots[j] > 1)):\n",
    "                            print(cd, pants, pants[j], pants[i])"
   ]
  },
  {
   "cell_type": "code",
   "execution_count": null,
   "id": "6b740775",
   "metadata": {},
   "outputs": [],
   "source": []
  }
 ],
 "metadata": {
  "kernelspec": {
   "display_name": "SageMath 9.7",
   "language": "sage",
   "name": "SageMath-9.7"
  },
  "language_info": {
   "codemirror_mode": {
    "name": "ipython",
    "version": 3
   },
   "file_extension": ".py",
   "mimetype": "text/x-python",
   "name": "python",
   "nbconvert_exporter": "python",
   "pygments_lexer": "ipython3",
   "version": "3.10.5"
  },
  "vscode": {
   "interpreter": {
    "hash": "b0fa6594d8f4cbf19f97940f81e996739fb7646882a419484c72d19e05852a7e"
   }
  }
 },
 "nbformat": 4,
 "nbformat_minor": 5
}

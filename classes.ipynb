{
 "cells": [
  {
   "attachments": {},
   "cell_type": "markdown",
   "metadata": {},
   "source": [
    "# Filtering Possible $\\mathcal M$-Parallel Classes"
   ]
  },
  {
   "attachments": {},
   "cell_type": "markdown",
   "metadata": {},
   "source": [
    "The purpose of this notebook is to use Sage to assist in the classification of rank 2 invariant subvarieties in strata of translation surfaces in genus 3. This classification was already done through other methods by David Aulicino, Duc Man Nguyen, and Alex Wright, but the methods described here, which is also used in my forthcoming PhD thesis will useful in how it can be readily applied to other strata.\n",
    "\n",
    "Assume $\\mathcal M$ is an invariant subvariety in a stratum $\\mathcal H$. We will start with a horizontally periodic translation surface $M\\in \\mathcal M$. A database for the possible cylinder diagrams for $M$ can be found in `surface-dynamics`: see [here](https://flatsurf.github.io/surface-dynamics/database.html). Here is an example:"
   ]
  },
  {
   "cell_type": "code",
   "execution_count": 1,
   "metadata": {},
   "outputs": [
    {
     "data": {
      "text/plain": [
       "(0,2)-(6) (1,4)-(3,5) (3,6)-(2,4) (5)-(0,1)"
      ]
     },
     "execution_count": 1,
     "metadata": {},
     "output_type": "execute_result"
    }
   ],
   "source": [
    "from surface_dynamics import CylinderDiagram\n",
    "\n",
    "CylinderDiagram('(0,2)-(6) (1,4)-(3,5) (3,6)-(2,4) (5)-(0,1)')"
   ]
  },
  {
   "attachments": {},
   "cell_type": "markdown",
   "metadata": {},
   "source": [
    "![Drawing of above cylinder diagram](h211-c4-9-1.png)"
   ]
  },
  {
   "attachments": {},
   "cell_type": "markdown",
   "metadata": {},
   "source": [
    "Assume $M$ has a cylinder diagram with $n$ cylinders, and label them $0$ to $n-1$ from left to right. Assume that these cylinders are partitioned into $m$ distinct $\\cal M$-parallel classes, and we want to know all possible ways to do this. The following function uses existing Sage functions to list all possible partitions. The point of this notebook is to filter out some of these candidate partitions by checking certain conditions. Although we won't use it here, you can set `singletons=False` if you do not want to allow cylinders in an $\\cal M$-parallel class by themselves."
   ]
  },
  {
   "cell_type": "code",
   "execution_count": 2,
   "metadata": {},
   "outputs": [
    {
     "data": {
      "text/plain": [
       "[{{0}, {1, 2, 3}},\n",
       " {{0, 1, 2}, {3}},\n",
       " {{0, 1, 3}, {2}},\n",
       " {{0, 2, 3}, {1}},\n",
       " {{0, 1}, {2, 3}},\n",
       " {{0, 3}, {1, 2}},\n",
       " {{0, 2}, {1, 3}}]"
      ]
     },
     "execution_count": 2,
     "metadata": {},
     "output_type": "execute_result"
    }
   ],
   "source": [
    "from sage.all import Partitions, SetPartitions\n",
    "\n",
    "def list_partitions(n, m, singletons=True):\n",
    "    \"\"\"Return a list of all ways to partition the set [1..n] into m sets.\n",
    "    \n",
    "    If singletons==False, do not allow singleton sets.\n",
    "\n",
    "    Each element of each partition is a frozen set.\n",
    "    Each partition is an instance of\n",
    "    `sage.combinat.set_partition.SetPartitions_setparts_with_category.element_class`.\"\"\"\n",
    "\n",
    "    partitions = []\n",
    "\n",
    "    # Partition the integer n into m nonzero integers\n",
    "    int_parts = Partitions(n, length=m).list()\n",
    "\n",
    "    # Checks for singleton sets\n",
    "    if not singletons:\n",
    "        int_parts = [l for l in int_parts if not any([i == 1 for i in l])]\n",
    "    \n",
    "    # Coverts integer partitions into set partitions\n",
    "    for each_part in int_parts:\n",
    "        partitions.extend(SetPartitions(range(n), each_part))\n",
    "    return partitions\n",
    "\n",
    "# Tests\n",
    "assert len(list_partitions(5, 2, singletons=True)) == 15\n",
    "assert len(list_partitions(6, 2, singletons=False)) == 25\n",
    "assert len(list_partitions(6, 3, singletons=False)) == 15\n",
    "\n",
    "list_partitions(4, 2)\n",
    "\n",
    "# [{{0}, {1, 2, 3}},\n",
    "#  {{0, 1, 2}, {3}},\n",
    "#  {{0, 1, 3}, {2}},\n",
    "#  {{0, 2, 3}, {1}},\n",
    "#  {{0, 1}, {2, 3}},\n",
    "#  {{0, 3}, {1, 2}},\n",
    "#  {{0, 2}, {1, 3}}]"
   ]
  },
  {
   "attachments": {},
   "cell_type": "markdown",
   "metadata": {},
   "source": [
    "## Homologous Condition\n",
    "\n",
    "The first condition is simply that two homologous cylinders must be in the same $\\cal M$-parallel class. `filter_homologous_condition` removes partitions that do not satisfy this condition."
   ]
  },
  {
   "cell_type": "code",
   "execution_count": 3,
   "metadata": {},
   "outputs": [],
   "source": [
    "from surface_dynamics.flat_surfaces.twist_space import TwistSpace\n",
    "\n",
    "def check_homologous_condition(cd, partition):\n",
    "    \"\"\"Check that homologous cylinders are in the same M-parallel class\n",
    "    in `partition`.\"\"\"\n",
    "    tw = TwistSpace(cd)\n",
    "    classes = tw.homologous_cylinders()\n",
    "    for homology_class in classes:\n",
    "        homology_class = frozenset(homology_class)\n",
    "        for f_set in partition:\n",
    "            intersection = f_set.intersection(homology_class)\n",
    "\n",
    "            # Every set in the partition must contain the whole homology class\n",
    "            # or none of it.\n",
    "            if intersection != frozenset() and intersection != homology_class:\n",
    "                return False\n",
    "    return True\n",
    "\n",
    "def filter_homologous_condition(cd, part_list):\n",
    "    \"\"\"Filter out the partitions in part_list when \n",
    "    check_homologous_condition=False.\"\"\"\n",
    "    return [part for part in part_list if check_homologous_condition(cd, part)]"
   ]
  },
  {
   "attachments": {},
   "cell_type": "markdown",
   "metadata": {},
   "source": [
    "### Example\n",
    "\n",
    "For the cylinder diagram (0,3)-(0,5) (1,2)-(1,4) (4,6)-(3,7) (5,7)-(2,6), \n",
    "the last two cylinders (numbered 2 and 3) are homologous. Thus, the remaining partitions\n",
    "should be exactly those that put 2 and 3 in the same set."
   ]
  },
  {
   "cell_type": "code",
   "execution_count": 4,
   "metadata": {},
   "outputs": [
    {
     "data": {
      "text/plain": [
       "[{{0}, {1, 2, 3}}, {{0, 2, 3}, {1}}, {{0, 1}, {2, 3}}]"
      ]
     },
     "execution_count": 4,
     "metadata": {},
     "output_type": "execute_result"
    }
   ],
   "source": [
    "part_list = list_partitions(4, 2)\n",
    "cd = CylinderDiagram('(0,3)-(0,5) (1,2)-(1,4) (4,6)-(3,7) (5,7)-(2,6)')\n",
    "filter_homologous_condition(cd, part_list)\n",
    "# [{{0}, {1, 2, 3}}, {{0, 2, 3}, {1}}, {{0, 1}, {2, 3}}]"
   ]
  },
  {
   "cell_type": "code",
   "execution_count": 5,
   "metadata": {},
   "outputs": [],
   "source": [
    "# Tests\n",
    "\n",
    "cd = CylinderDiagram('(0,2,1)-(4,5) (3,5)-(0,2,1) (4)-(3)')\n",
    "tw = TwistSpace(cd)\n",
    "assert set(tw.homologous_cylinders()[0]) == {0, 1}\n",
    "cd = CylinderDiagram('(0,3)-(0,5) (1,2)-(1,4) (4,6)-(3,7) (5,7)-(2,6)')\n",
    "tw = TwistSpace(cd)\n",
    "assert set(tw.homologous_cylinders()[0]) == {2, 3}\n",
    "cd = CylinderDiagram('(0)-(2) (1,2,3)-(4,5) (4)-(3) (5)-(0,1)')\n",
    "tw = TwistSpace(cd)\n",
    "assert tw.homologous_cylinders() == []\n",
    "    \n",
    "part_list = list_partitions(3, 2)\n",
    "cd = CylinderDiagram('(0,2,1)-(4,5) (3,5)-(0,2,1) (4)-(3)')\n",
    "good_part = filter_homologous_condition(cd, part_list)\n",
    "assert len(good_part) == 1\n",
    "part_list = list_partitions(5, 2)\n",
    "cd = CylinderDiagram('(0)-(2) (1)-(3) (2,4,3)-(5,6) (5)-(4) (6)-(0,1)')\n",
    "good_part = filter_homologous_condition(cd, part_list)\n",
    "assert len(good_part) == 15\n",
    "cd = CylinderDiagram('(0,1)-(0,6) (2)-(5) (3)-(4) (4,5)-(1) (6)-(2,3)')\n",
    "good_part = filter_homologous_condition(cd, part_list)\n",
    "assert len(good_part) == 7"
   ]
  },
  {
   "attachments": {},
   "cell_type": "markdown",
   "metadata": {},
   "source": [
    "## Pants Condition\n",
    "\n",
    "We define a **generalized pants** to be a pair of pants with potentially more than two pant legs. This gives an equation in homology between the core curves of the cylinders in the pants of the form\n",
    "$\\gamma_1 = \\sum_{i=2}^k \\gamma_i$.\n",
    "Because of this equation, we have that these cylinders cannot be contained in exactly two distinct $\\cal M$-parallel classes. To see this, recall that the core curves of $\\cal M$-parallel cylinders become colinear when projected to the dual of the tangent space of $M$.\n",
    "`filter_pants_condition` filters out partitions that do not satisfy this condition.\n",
    "\n",
    "In general, a homology relation between core curves of cylinders should give a condition of partitions; this case and the previous one are both specific examples of this.\n",
    "It would be nice to have a more general function that finds all homology relations, and determines all such conditions."
   ]
  },
  {
   "cell_type": "code",
   "execution_count": 6,
   "metadata": {},
   "outputs": [],
   "source": [
    "def find_cylinder_in_partition(partition, cylinder):\n",
    "    \"\"\"Find the M-parallel class in `partition` than contains `cylinder`.\n",
    "    \n",
    "    `partition` is a list of frozen sets.\n",
    "    `cylinder` is an integer\n",
    "    Return the index of the element of `partition` that contains `cylinder`.\"\"\"\n",
    "    for i, parallel_class in enumerate(partition):\n",
    "        if cylinder in parallel_class:\n",
    "            return i\n",
    "    \n",
    "    # If cylinder was not found in partition\n",
    "    return None\n",
    "\n",
    "def check_pants_condition(partition, pants_list):\n",
    "    \"\"\"Check the partition satisfies any homology conditions coming from \n",
    "    the pants in pants_list.\n",
    "    \n",
    "    `partition` is a partition of the horizontal cylinders into M-parallel\n",
    "    classes.\n",
    "\n",
    "    `pants_list` is a list of pants, where each pants is a frozenset containing\n",
    "    every cylinder in the pants\n",
    "    \n",
    "    The homology condition is the following:\n",
    "    the cylinders in the pants cannot be contained in exactly two distinct sets\n",
    "    in `partition`.\n",
    "    \"\"\"\n",
    "\n",
    "    for pants in pants_list:\n",
    "        \n",
    "        # A list of the cylinder classes that contain a cylinder of pants\n",
    "        cylinder_classes = map(\n",
    "            lambda c: find_cylinder_in_partition(partition, c),\n",
    "            pants\n",
    "        )\n",
    "        if len(set(cylinder_classes)) == 2:\n",
    "            return False\n",
    "    return True\n",
    "\n",
    "def find_generalized_pants(digraph):\n",
    "    \"\"\"Finds cases when n cylinders are all only attached to the side\n",
    "    of a single cylinder. This is like a generalized version of a\n",
    "    topological pair of pants allows n pant legs.\n",
    "    \n",
    "    Input: A cylinder diagram.\n",
    "    \n",
    "    Output: A set of pants. Each pants is a frozenset consisting of the \n",
    "    cylinders in the pants.\n",
    "    \n",
    "    Note: For Python 3.7 and higher, frozensets should maintain insertion\n",
    "    order. Thus, the first element of each pants is the waist curve and the\n",
    "    rest are the pant legs. However, we do not use this in our code.\"\"\"\n",
    "\n",
    "    pants_set = set()\n",
    "    for n in digraph:\n",
    "        # If every cylinder above `C` is only adjacent to `C` along its\n",
    "        # bottom, this is a generalized pants.\n",
    "        neighbors_out = list(digraph.neighbors_out(n))\n",
    "        if all([list(digraph.neighbors_in(suc)) == [n] \n",
    "                for suc in neighbors_out]):\n",
    "            \n",
    "            pants = frozenset([n] + neighbors_out)\n",
    "            pants_set.add(pants)\n",
    "\n",
    "        # If every cylinder below `C` is only adjacent to `C` along its\n",
    "        # top, this is a generalized pants.\n",
    "        neighbors_in = list(digraph.neighbors_in(n))\n",
    "        if all([list(digraph.neighbors_out(pre)) == [n] \n",
    "                for pre in neighbors_in]):\n",
    "\n",
    "            pants = frozenset([n] + neighbors_in)\n",
    "            pants_set.add(pants)\n",
    "    return pants_set\n",
    "\n",
    "def filter_pants_condition(cd, part_list):\n",
    "    \"\"\"Filter out the partitions in part_list when check_pants_condition=False.\n",
    "    \"\"\"\n",
    "    cyl_graph = cd.cylinder_graph()\n",
    "    pants_list = list(find_generalized_pants(cyl_graph))\n",
    "    return [partition for partition in part_list \n",
    "                      if check_pants_condition(partition, pants_list)]"
   ]
  },
  {
   "attachments": {},
   "cell_type": "markdown",
   "metadata": {},
   "source": [
    "### Example\n",
    "\n",
    "For cylinder diagram (0,3)-(5) (1)-(2) (2,5)-(3,4) (4)-(0,1), the first three cylinders {0, 1, 2} form a pair of pants.\n",
    "Thus, they must all be in the same $\\cal M$-parallel class or all be in different ones.\n",
    "The only partition with two $\\cal M$-parallel classes is thus {{0, 1, 2}, {3}}."
   ]
  },
  {
   "cell_type": "code",
   "execution_count": 7,
   "metadata": {},
   "outputs": [
    {
     "name": "stdout",
     "output_type": "stream",
     "text": [
      "The pants of this cylinder diagram are: {frozenset({0, 1, 2})}.\n"
     ]
    },
    {
     "data": {
      "text/plain": [
       "[{{0, 1, 2}, {3}}]"
      ]
     },
     "execution_count": 7,
     "metadata": {},
     "output_type": "execute_result"
    }
   ],
   "source": [
    "cd = CylinderDiagram(\"(0,3)-(5) (1)-(2) (2,5)-(3,4) (4)-(0,1)\")\n",
    "print(f\"The pants of this cylinder diagram are: {find_generalized_pants(cd.cylinder_graph())}.\")\n",
    "# {frozenset({0, 1, 2})}\n",
    "\n",
    "partitions = list_partitions(4, 2)\n",
    "filter_pants_condition(cd, partitions)\n",
    "# [{{0, 1, 2}, {3}}]"
   ]
  },
  {
   "cell_type": "code",
   "execution_count": 8,
   "metadata": {},
   "outputs": [],
   "source": [
    "# Tests\n",
    "\n",
    "## check_pants_condition\n",
    "assert check_pants_condition([{1}, {2}, {3}], [[1, 2, 3]])\n",
    "assert not check_pants_condition([{0, 1}, {2, 3}], [[1, 2, 3]])\n",
    "assert check_pants_condition([{0, 1, 2, 3}], [[1, 2, 3]])\n",
    "\n",
    "\n",
    "# find_generalized_pants\n",
    "cd = CylinderDiagram(\"(0)-(2) (1,2,3)-(4,5) (4)-(3) (5)-(0,1)\")\n",
    "cd_g = cd.cylinder_graph()\n",
    "assert find_generalized_pants(cd_g) == set([frozenset([1, 2, 3])])\n",
    "\n",
    "cd = CylinderDiagram(\"(0,3)-(5) (1)-(0) (2,5)-(3,4) (4)-(1,2)\")\n",
    "cd_g = cd.cylinder_graph()\n",
    "assert find_generalized_pants(cd_g) == set()\n",
    "\n",
    "cd = CylinderDiagram(\"(0,2,1)-(3,4,5) (3)-(1) (4)-(2) (5)-(0)\")\n",
    "cd_g = cd.cylinder_graph()\n",
    "assert find_generalized_pants(cd_g) == set([frozenset([0, 1, 2, 3])])\n",
    "\n",
    "cd = CylinderDiagram(\"(0)-(2) (1)-(3) (2,4,3)-(5,6) (5)-(4) (6)-(0,1)\")\n",
    "cd_g = cd.cylinder_graph()\n",
    "assert find_generalized_pants(cd_g) == set([frozenset({0, 1, 4}), frozenset({2, 3, 4}), frozenset({0, 1, 2, 3})])\n",
    "\n",
    "\n",
    "# filter_pants_condition\n",
    "cd = CylinderDiagram(\"(0,3)-(0,5) (1,2)-(1,4) (4)-(3) (5)-(2)\")\n",
    "partitions = list_partitions(4, 2)\n",
    "assert len(filter_pants_condition(cd, partitions)) == 7\n",
    "\n",
    "cd = CylinderDiagram(\"(0,2,1)-(3,4,5) (3)-(1) (4)-(2) (5)-(0)\")\n",
    "partitions = list_partitions(4, 2)\n",
    "assert len(filter_pants_condition(cd, partitions)) == 0"
   ]
  },
  {
   "attachments": {},
   "cell_type": "markdown",
   "metadata": {},
   "source": [
    "## Standard Twist Condition\n",
    "\n",
    "Now assume that $\\cal M$ is rank 2 and $M$ has at least 3 $\\cal M$-parallel classes.\n",
    "Let $\\sigma_1,\\sigma_2,\\sigma_3$ be the standard twists of these classes, and $p$ be the projection from relative to absolution cohomology.\n",
    "By definition of rank, $p(\\sigma_1), p(\\sigma_2), p(\\sigma_3)$ are in a 2 dimensional subspace of cohomology, so there must be a linear relation.\n",
    "Up to relabeling, the equation must be of the form \n",
    "$a_1p(\\sigma_1) = a_2p(\\sigma_2) + a_3p(\\sigma_3)$, where crucially $a_1,a_2,a_3>0$. Often, this equation has no solutions, which rules out the partition.\n",
    "We can use linear programming to determine exactly when such an equation has a solution.\n",
    "If $\\cal M$ has more than 3 $\\cal M$-parallel classes, we have one such equation for any triple (although many of these equations will be redundant).\n",
    "`filter_standard_twist_condition` checks this condition."
   ]
  },
  {
   "cell_type": "code",
   "execution_count": 9,
   "metadata": {},
   "outputs": [],
   "source": [
    "from sage.all import block_matrix, matrix, MixedIntegerLinearProgram\n",
    "from sage.numerical.mip import MIPSolverException\n",
    "\n",
    "def class_matrix(tw, m_class):\n",
    "    \"\"\"Stacks the core curves of the cylinders in an M-parallel class into a\n",
    "    single matrix.\"\"\"\n",
    "    core_curves = list(tw.cylinder_core_curves())\n",
    "    return (matrix([core_curves[i] for i in m_class]))\n",
    "\n",
    "def ordered_partition(tw, partition):\n",
    "    \"\"\"Checks the standard twist condition on a specific ordered set of the\n",
    "    equivalence classes.\"\"\"\n",
    "    c0 = list(partition[0])\n",
    "    c1 = list(partition[1])\n",
    "    c2 = list(partition[2])\n",
    "\n",
    "    # Convert the equation into the form Ax - b = 0\n",
    "    A = block_matrix(3, 1,\n",
    "                        [class_matrix(tw, c0), class_matrix(tw, c1), -class_matrix(tw, c2)],\n",
    "                        subdivide=False)  \n",
    "    b = -sum(A)\n",
    "    A = A.T\n",
    "    \n",
    "    # Find any solution to the linear programming problem\n",
    "    # Ax - b = 0\n",
    "    # x >= 0\n",
    "    p = MixedIntegerLinearProgram(maximization=False)\n",
    "    x = p.new_variable(real=True, nonnegative=True)\n",
    "    p.add_constraint(A*x == b)\n",
    "    try:\n",
    "        p.solve()\n",
    "        return True\n",
    "    except MIPSolverException:\n",
    "        # MIPSolverException means that no solution exists.\n",
    "        return False\n",
    "\n",
    "def check_standard_twist_condition(tw, partition):\n",
    "    \"\"\"If the partition does not have three equivalence classes, return\n",
    "    true. Otherwise, check that the equation\n",
    "    Σa_iα_i = Σb_jβ_j + Σc_kγ_k\n",
    "    has a solution for a_i,b_j,c_k >= 1.\"\"\"\n",
    "\n",
    "    n = len(partition)\n",
    "    partition = list(partition)\n",
    "    for i in range(n-2):\n",
    "        for j in range(i+1, n-1):\n",
    "            for k in range(j+1, n):\n",
    "                order1 = [partition[i], partition[j], partition[k]]\n",
    "                order2 = [partition[j], partition[k], partition[i]]\n",
    "                order3 = [partition[k], partition[i], partition[j]]\n",
    "                if not any([ordered_partition(tw, order1),\n",
    "                            ordered_partition(tw, order2),\n",
    "                            ordered_partition(tw, order3)]):\n",
    "                    return False\n",
    "    return True\n",
    "\n",
    "def filter_standard_twist_condition(cd, part_list):\n",
    "    tw = TwistSpace(cd)\n",
    "    return [part for part in part_list \n",
    "                 if check_standard_twist_condition(tw, part)]"
   ]
  },
  {
   "attachments": {},
   "cell_type": "markdown",
   "metadata": {},
   "source": [
    "### Examples\n",
    "\n",
    "1. Since these exists an invariant subvariety of rank 2 containing a translation surface $M$ with cylinder diagram (0,3)-(5) (1)-(0) (2,5)-(3,4) (4)-(1,2),\n",
    "whose $\\cal M$-parallel classes are {{0, 3}, {1}, {2}}, it is a sanity check that this partition has not been filtered out."
   ]
  },
  {
   "cell_type": "code",
   "execution_count": 10,
   "metadata": {},
   "outputs": [
    {
     "data": {
      "text/plain": [
       "[{{0, 3}, {1}, {2}}, {{0}, {1, 2}, {3}}]"
      ]
     },
     "execution_count": 10,
     "metadata": {},
     "output_type": "execute_result"
    }
   ],
   "source": [
    "part_list = list_partitions(4, 3)\n",
    "cd = CylinderDiagram(\"(0,3)-(5) (1)-(0) (2,5)-(3,4) (4)-(1,2)\")\n",
    "filter_standard_twist_condition(cd, part_list)\n",
    "# [{{0, 3}, {1}, {2}}, {{0}, {1, 2}, {3}}]"
   ]
  },
  {
   "attachments": {},
   "cell_type": "markdown",
   "metadata": {},
   "source": [
    "2. The following is a corollary that we can use as a sanity check. If $M$ contains exactly 3 $\\cal M$-parallel classes, the dual of the equation $a_1p(\\sigma_1) = a_2p(\\sigma_2) + a_3p(\\sigma_3)$ gives an equation in homology that contains the core curve of every cylinder of $M$. For (0)-(2) (1,2,3)-(4,5) (4)-(3) (5)-(0,1), there is only one equation in homology between {1,2,3}, so it cannot satisfy this condition with 3 $\\cal M$-parallel classes."
   ]
  },
  {
   "cell_type": "code",
   "execution_count": 11,
   "metadata": {},
   "outputs": [
    {
     "data": {
      "text/plain": [
       "[]"
      ]
     },
     "execution_count": 11,
     "metadata": {},
     "output_type": "execute_result"
    }
   ],
   "source": [
    "part_list = list_partitions(4, 3)\n",
    "cd = CylinderDiagram('(0)-(2) (1,2,3)-(4,5) (4)-(3) (5)-(0,1)')\n",
    "filter_standard_twist_condition(cd, part_list)\n",
    "# []"
   ]
  },
  {
   "cell_type": "code",
   "execution_count": 12,
   "metadata": {},
   "outputs": [],
   "source": [
    "# Tests \n",
    "\n",
    "part_list = list_partitions(4, 3)\n",
    "cd = CylinderDiagram(\"(0,2,1)-(3,4,5) (3)-(1) (4)-(2) (5)-(0)\")\n",
    "good_part = filter_standard_twist_condition(cd, part_list)\n",
    "good_part = [set(part) for part in good_part]\n",
    "possible = {frozenset({0}), frozenset({1, 3}), frozenset({2})}\n",
    "assert possible in good_part\n",
    "possible = {frozenset({0}), frozenset({1, 2}), frozenset({3})}\n",
    "assert possible in good_part\n",
    "possible = {frozenset({0}), frozenset({1}), frozenset({2, 3})}\n",
    "assert possible in good_part\n",
    "\n",
    "part_list = list_partitions(5, 3)\n",
    "cd = CylinderDiagram(\"(0,2)-(6) (1)-(3) (3,6)-(4,5) (4)-(0) (5)-(1,2)\")\n",
    "good_part = filter_standard_twist_condition(cd, part_list)\n",
    "good_part = [set(part) for part in good_part]\n",
    "possible = {frozenset({0, 4}), frozenset({1, 3}), frozenset({2})}\n",
    "assert possible in good_part\n",
    "\n",
    "part_list = list_partitions(5, 3)\n",
    "cd = CylinderDiagram(\"(0,6)-(4,5) (1,2)-(3,6) (3)-(2) (4)-(1) (5)-(0)\")\n",
    "good_part = filter_standard_twist_condition(cd, part_list)\n",
    "good_part = [set(part) for part in good_part]\n",
    "possible = {frozenset({0, 1}), frozenset({2, 4}), frozenset({3})}\n",
    "assert possible in good_part\n",
    "\n",
    "part_list = list_partitions(4, 3)\n",
    "cd = CylinderDiagram(\"(0,3)-(5) (1)-(2) (2,5)-(3,4) (4)-(0,1)\")\n",
    "good_part = filter_standard_twist_condition(cd, part_list)\n",
    "assert good_part == []\n",
    "\n",
    "part_list = list_partitions(4, 3)\n",
    "cd = CylinderDiagram(\"(0,1)-(0,5) (2)-(4) (3,4)-(1) (5)-(2,3)\")\n",
    "good_part = filter_standard_twist_condition(cd, part_list)\n",
    "assert good_part == []"
   ]
  },
  {
   "attachments": {},
   "cell_type": "markdown",
   "metadata": {},
   "source": [
    "## Leaf Condition\n",
    "\n",
    "The final condition is quite specific but we include it because it is easy to code up. It is from [this paper](https://arxiv.org/abs/1501.03303) Lemma 2.11. Let $\\cal M$ be an invariant subvariety with field of definition $\\mathbb Q$ and rank at least 2. Assume $M$ is horizontally periodic and that the core curves of the horizontal cylinders span a subspace of dimension at least 2 in the dual of the tangent space. Furthermore, assume there is a simple horizontal cylinder $C$ that is only adjacent to another cylinder $D$. \n",
    "Then, $C$ and $D$ cannot be in the same $\\cal M$-parallel class. `filter_leaf_condition` checks this condition.\n",
    "\n",
    "Define the **cylinder graph** as the directed graph, where vertices are cylinders and the edges are saddle connections.\n",
    "We call this the leaf condition since $C$ is a leaf in the cylinder graph i.e. its only neighbor is $D$."
   ]
  },
  {
   "cell_type": "code",
   "execution_count": 13,
   "metadata": {},
   "outputs": [],
   "source": [
    "def is_simple(cd, index):\n",
    "    \"\"\"Check if cylinder number `index` is simple.\"\"\"\n",
    "    cylinder = cd.cylinders()[index]\n",
    "    if len(cylinder[0]) == 1 and len(cylinder[1]) == 1:\n",
    "        return True\n",
    "    return False\n",
    "\n",
    "def find_leaves(digraph):\n",
    "    \"\"\"Return the tuples (leaf, neighbor) for all leaves of `digraph`.\n",
    "    \n",
    "    A leaf is a vertex such that it only has one neighbor, where we \n",
    "    count a vertex as a neighbor if there is either an edge coming from it\n",
    "    or an edge going to it.\n",
    "    \n",
    "    For a given leaf, `neighbor` is it's unique neighbor.\"\"\"\n",
    "    leaf_neighbers = []\n",
    "    for n in digraph:\n",
    "        neighbors = set(digraph.neighbors_out(n)) | \\\n",
    "                    set(digraph.neighbors_in(n))\n",
    "        if len(neighbors) == 1:\n",
    "            leaf_neighbers.append((n, next(iter(neighbors))))\n",
    "    return leaf_neighbers\n",
    "\n",
    "def check_leaf_condition(cd, partition):\n",
    "    \"\"\"Check for the following condition:\n",
    "    If a cylinder C is only bordering another cylinder D, then C and D cannot\n",
    "    be in the same M-parallel class.\n",
    "    \n",
    "    Note that there are some assumptions for this condition.\n",
    "    Refer to the paper for these assumptions.\"\"\"\n",
    "    cyl_graph = cd.cylinder_graph()\n",
    "    for leaf, neighbor in find_leaves(cyl_graph):\n",
    "        if is_simple(cd, leaf):\n",
    "            if find_cylinder_in_partition(partition, leaf) == \\\n",
    "            find_cylinder_in_partition(partition, neighbor):\n",
    "                return False\n",
    "    return True\n",
    "\n",
    "def filter_leaf_condition(cd, part_list):\n",
    "    \"\"\"Filter out the partitions in part_list when check_leaf_condition=False.\n",
    "    \"\"\"\n",
    "    return [part for part in part_list if check_leaf_condition(cd, part)]"
   ]
  },
  {
   "attachments": {},
   "cell_type": "markdown",
   "metadata": {},
   "source": [
    "### Example\n",
    "\n",
    "In the cylinder diagram (0,1)-(0,2) (2)-(3) (3,4)-(1,5) (5)-(4), we see that cylinder 3 is a leaf adjacent only to cylinder 2. Thus, they cannot be in the same set."
   ]
  },
  {
   "cell_type": "code",
   "execution_count": 14,
   "metadata": {},
   "outputs": [
    {
     "data": {
      "text/plain": [
       "[{{0, 1, 2}, {3}}, {{0, 1, 3}, {2}}, {{0, 3}, {1, 2}}, {{0, 2}, {1, 3}}]"
      ]
     },
     "execution_count": 14,
     "metadata": {},
     "output_type": "execute_result"
    }
   ],
   "source": [
    "part_list = list_partitions(4, 2)\n",
    "cd = CylinderDiagram(\"(0,1)-(0,2) (2)-(3) (3,4)-(1,5) (5)-(4)\")\n",
    "filter_leaf_condition(cd, part_list)\n",
    "# [{{0, 1, 2}, {3}}, {{0, 1, 3}, {2}}, {{0, 3}, {1, 2}}, {{0, 2}, {1, 3}}]"
   ]
  },
  {
   "cell_type": "code",
   "execution_count": 15,
   "metadata": {},
   "outputs": [],
   "source": [
    "# Tests\n",
    "\n",
    "cd = CylinderDiagram(\"(0)-(1) (1,3,4,2)-(5,6) (5)-(0,4) (6)-(2,3)\")\n",
    "good_part = filter_leaf_condition(cd, part_list)\n",
    "assert len(good_part) == 7\n",
    "cd = CylinderDiagram(\"(0,3)-(5) (1)-(2) (2,5)-(3,4) (4)-(0,1)\")\n",
    "good_part = filter_leaf_condition(cd, part_list)\n",
    "assert len(good_part) == 7"
   ]
  },
  {
   "attachments": {},
   "cell_type": "markdown",
   "metadata": {},
   "source": [
    "## H(3,1)\n",
    "\n",
    "We go through every cylinder diagram with $n$ cylinders in a component of a stratum, and we check the partitions with $m$ $\\cal M$-parallel classes. $\\cal H(3,1)$ has no rank 2 invariant subvarieties, so we would like to filter out as many partitions as possible."
   ]
  },
  {
   "cell_type": "code",
   "execution_count": 16,
   "metadata": {},
   "outputs": [],
   "source": [
    "from surface_dynamics import AbelianStratum\n",
    "from surface_dynamics.databases.flat_surfaces import CylinderDiagrams\n",
    "\n",
    "def filter_partitions(cyl_diag_list, num_classes):\n",
    "    \"\"\"For each cylinder diagram in cyl_diag_list, list all partitions with \n",
    "    num_classes number of classes and filter out the invalid ones.\n",
    "    \n",
    "    Stores the output in a dict of\n",
    "    (cylinder diagram, list of equivalence classes)\"\"\"\n",
    "    output = {}\n",
    "    for cd in cyl_diag_list:\n",
    "        part = list_partitions(len(cd.cylinders()), num_classes)\n",
    "        part = filter_pants_condition(cd, part)\n",
    "        part = filter_homologous_condition(cd, part)\n",
    "        part = filter_leaf_condition(cd, part)\n",
    "        part = filter_standard_twist_condition(cd, part)\n",
    "        output[cd] = part\n",
    "    return output"
   ]
  },
  {
   "attachments": {},
   "cell_type": "markdown",
   "metadata": {},
   "source": [
    "Among the four 4-cylinder diagrams and 2 $\\cal M$-parallel classes, we rule out two of the four cylinder diagrams. For the remaining ones, we only need to consider one partition each."
   ]
  },
  {
   "cell_type": "code",
   "execution_count": 17,
   "metadata": {},
   "outputs": [
    {
     "name": "stdout",
     "output_type": "stream",
     "text": [
      "1. (0)-(2) (1,2,3)-(4,5) (4)-(3) (5)-(0,1)\n",
      "[]\n",
      "2. (0,3)-(5) (1)-(2) (2,5)-(3,4) (4)-(0,1)\n",
      "[{{0, 1, 2}, {3}}]\n",
      "3. (0,1)-(0,2) (2)-(3) (3,4)-(1,5) (5)-(4)\n",
      "[]\n",
      "4. (0,1)-(0,4,5) (2,3)-(1) (4)-(2) (5)-(3)\n",
      "[{{0}, {1, 2, 3}}]\n"
     ]
    }
   ],
   "source": [
    "H = AbelianStratum(3, 1).components()[0]\n",
    "C = CylinderDiagrams()\n",
    "\n",
    "# Check the partitions with 2 classes\n",
    "cyl_diag_list = C.get_iterator(H, 4)\n",
    "valid = filter_partitions(cyl_diag_list, 2)\n",
    "for i, (k, v) in enumerate(valid.items()):\n",
    "    print(f\"{i+1}. {k}\")\n",
    "    print(v)\n",
    "\n",
    "# 1. (0)-(2) (1,2,3)-(4,5) (4)-(3) (5)-(0,1)\n",
    "# []\n",
    "# 2. (0,3)-(5) (1)-(2) (2,5)-(3,4) (4)-(0,1)\n",
    "# [{{0, 1, 2}, {3}}]\n",
    "# 3. (0,1)-(0,2) (2)-(3) (3,4)-(1,5) (5)-(4)\n",
    "# []\n",
    "# 4. (0,1)-(0,4,5) (2,3)-(1) (4)-(2) (5)-(3)\n",
    "# [{{0}, {1, 2, 3}}]"
   ]
  },
  {
   "attachments": {},
   "cell_type": "markdown",
   "metadata": {},
   "source": [
    "For 3 $\\cal M$-parallel classes, we rule out all possibilities."
   ]
  },
  {
   "cell_type": "code",
   "execution_count": 18,
   "metadata": {},
   "outputs": [
    {
     "name": "stdout",
     "output_type": "stream",
     "text": [
      "1. (0)-(2) (1,2,3)-(4,5) (4)-(3) (5)-(0,1)\n",
      "[]\n",
      "2. (0,3)-(5) (1)-(2) (2,5)-(3,4) (4)-(0,1)\n",
      "[]\n",
      "3. (0,1)-(0,2) (2)-(3) (3,4)-(1,5) (5)-(4)\n",
      "[]\n",
      "4. (0,1)-(0,4,5) (2,3)-(1) (4)-(2) (5)-(3)\n",
      "[]\n"
     ]
    }
   ],
   "source": [
    "# Check the partitions with 3 classes\n",
    "cyl_diag_list = C.get_iterator(H, 4)\n",
    "valid = filter_partitions(cyl_diag_list, 3)\n",
    "for i, (k, v) in enumerate(valid.items()):\n",
    "    print(f\"{i+1}. {k}\")\n",
    "    print(v)\n",
    "\n",
    "# 1. (0)-(2) (1,2,3)-(4,5) (4)-(3) (5)-(0,1)\n",
    "# []\n",
    "# 2. (0,3)-(5) (1)-(2) (2,5)-(3,4) (4)-(0,1)\n",
    "# []\n",
    "# 3. (0,1)-(0,2) (2)-(3) (3,4)-(1,5) (5)-(4)\n",
    "# []\n",
    "# 4. (0,1)-(0,4,5) (2,3)-(1) (4)-(2) (5)-(3)\n",
    "# []"
   ]
  },
  {
   "attachments": {},
   "cell_type": "markdown",
   "metadata": {},
   "source": [
    "## Printing Output\n",
    "\n",
    "The following script goes through every component of strata in `strata`, every cylinder diagram with at least 4 cylinders, and checks all partitions for at least 2 $\\cal M$-parallel classes. The output is saves to a folder called `output`. This output is used in my thesis to classify rank 2 invariant subvarieties in some genus 3 strata."
   ]
  },
  {
   "cell_type": "code",
   "execution_count": 19,
   "metadata": {},
   "outputs": [],
   "source": [
    "import os\n",
    "import sys\n",
    "\n",
    "def list_cylinder_classes(H, num_cylinders, num_classes, directory):\n",
    "    \"\"\"Runs filter_partitions on every cylinder diagram with num_cylinders\n",
    "    number of cylinders in a stratum H.\"\"\"\n",
    "    C = CylinderDiagrams()\n",
    "    try:\n",
    "        cyl_diag_list = C.get_iterator(H, num_cylinders)\n",
    "        with open(f\"{directory}/{name_of_stratum(H)}-c{num_cylinders}-{num_classes}.txt\", 'w') as sys.stdout:\n",
    "            valid = filter_partitions(cyl_diag_list, num_classes)\n",
    "            for i, (k, v) in enumerate(valid.items()):\n",
    "                print(f\"{i+1}. {k}\")\n",
    "                print(v)\n",
    "    except ValueError:\n",
    "        return\n",
    "\n",
    "def name_of_stratum(H):\n",
    "    name = 'h'\n",
    "    for z in H.stratum().zeros():\n",
    "        name = name + str(z)\n",
    "    return name\n",
    "\n",
    "def main():\n",
    "    directory = 'output'\n",
    "    if not os.path.exists(directory):\n",
    "       os.makedirs(directory)\n",
    "    \n",
    "    # H(3,1), H^odd(2,2), H(2,1,1), H(1,1,1,1)\n",
    "    strata = [AbelianStratum(3, 1).components()[0], AbelianStratum(2, 2).components()[1], AbelianStratum(2, 1, 1).components()[0], AbelianStratum(1, 1, 1, 1).components()[0]]\n",
    "    for H in strata:\n",
    "\n",
    "        # Cylinder diagrams with 4 or more cylinders.\n",
    "        for num_cylinders in range(4, 7):\n",
    "            # Partitions with at least 2 classes.\n",
    "            for i in range(2, num_cylinders):\n",
    "                list_cylinder_classes(H, num_cylinders, i, directory)"
   ]
  },
  {
   "cell_type": "code",
   "execution_count": null,
   "metadata": {},
   "outputs": [],
   "source": [
    "# For me, running `main()` as an ipynb notebook was very slow. In this case \n",
    "# you can convert this to a .py file before running.\n",
    "\n",
    "# main()"
   ]
  }
 ],
 "metadata": {
  "kernelspec": {
   "display_name": "SageMath 9.5",
   "language": "sage",
   "name": "sagemath"
  },
  "language_info": {
   "codemirror_mode": {
    "name": "ipython",
    "version": 3
   },
   "file_extension": ".py",
   "mimetype": "text/x-python",
   "name": "python",
   "nbconvert_exporter": "python",
   "pygments_lexer": "ipython3",
   "version": "3.10.6"
  },
  "orig_nbformat": 4
 },
 "nbformat": 4,
 "nbformat_minor": 2
}

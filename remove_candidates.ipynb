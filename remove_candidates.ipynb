{
 "cells": [
  {
   "cell_type": "code",
   "execution_count": 2,
   "id": "c2113a94",
   "metadata": {
    "scrolled": true
   },
   "outputs": [],
   "source": [
    "import networkx as nx\n",
    "import matplotlib.pyplot as plt\n",
    "from surface_dynamics.databases.flat_surfaces import CylinderDiagrams\n",
    "from surface_dynamics import AbelianStratum\n"
   ]
  },
  {
   "cell_type": "code",
   "execution_count": 3,
   "id": "9cd75d28",
   "metadata": {},
   "outputs": [],
   "source": [
    "G = nx.DiGraph()\n",
    "G.add_node(1)\n",
    "G.add_nodes_from([2, 3])\n",
    "G.add_edge(1, 2)"
   ]
  },
  {
   "cell_type": "code",
   "execution_count": 14,
   "id": "25e1fd16",
   "metadata": {},
   "outputs": [
    {
     "data": {
      "text/plain": [
       "[(0)-(1) (1,3,4,2)-(5,6) (5)-(0,4) (6)-(2,3),\n",
       " (0)-(1,2) (1,4,2,3)-(5,6) (5)-(4) (6)-(0,3),\n",
       " (0)-(3) (1,3,2,4)-(5,6) (5)-(4) (6)-(0,2,1),\n",
       " (0)-(3) (1,4,2,3)-(5,6) (5)-(4) (6)-(0,2,1),\n",
       " (0,1)-(0,2,5) (2)-(3) (3,6)-(1,4) (4,5)-(6),\n",
       " (0,2)-(5) (1,3)-(6) (4)-(0,1) (5,6)-(2,4,3),\n",
       " (0,1)-(0,3) (2,5)-(1,6) (3,6)-(4,5) (4)-(2),\n",
       " (0,2)-(0,5) (1,3)-(1,6) (4,5)-(3) (6)-(2,4),\n",
       " (0,2)-(6) (1,4)-(3,5) (3,6)-(2,4) (5)-(0,1),\n",
       " (0,1)-(0,2) (2,4)-(6) (3,6)-(1,5,4) (5)-(3),\n",
       " (0,1)-(0,3,5,6) (2,4)-(1) (3,6)-(4) (5)-(2),\n",
       " (0,1,2)-(0,1,6) (3)-(5) (4,5)-(2) (6)-(3,4),\n",
       " (0,4,1)-(6) (2)-(3) (3,6)-(4,5) (5)-(0,2,1),\n",
       " (0,3,1)-(6) (2)-(4) (4,6)-(0,5,1) (5)-(2,3),\n",
       " (0,3,1)-(6) (2)-(3) (4,6)-(0,5,1) (5)-(2,4),\n",
       " (0,1,2)-(3,6,4,5) (3,4)-(2) (5)-(0) (6)-(1),\n",
       " (0,1,2)-(0,1,6) (3,6)-(4,5) (4)-(3) (5)-(2),\n",
       " (0,2,1)-(5,6) (3,4)-(0,2,1) (5)-(4) (6)-(3),\n",
       " (0,2,1)-(5,6) (3,6)-(0,4,1) (4)-(2) (5)-(3),\n",
       " (0,2,1)-(5,6) (3,6)-(0,4,1) (4)-(3) (5)-(2),\n",
       " (0,4,2)-(5,6) (1,3)-(0,1,2) (5)-(4) (6)-(3),\n",
       " (0,2,1)-(6) (3,6)-(4,5) (4)-(3) (5)-(0,2,1),\n",
       " (0,1,4)-(0,1,6) (2,3)-(2,5) (5)-(4) (6)-(3),\n",
       " (0,5,2)-(3) (1,3)-(1,6) (4)-(5) (6)-(0,4,2),\n",
       " (0,1,2)-(0,1,5,6) (3,4)-(2) (5)-(4) (6)-(3),\n",
       " (0,1,2)-(0,5,1,6) (3,4)-(2) (5)-(3) (6)-(4),\n",
       " (0,2,1)-(6) (3,6)-(0,5,4,1) (4)-(3) (5)-(2)]"
      ]
     },
     "execution_count": 14,
     "metadata": {},
     "output_type": "execute_result"
    }
   ],
   "source": [
    "C = CylinderDiagrams()\n",
    "a = AbelianStratum(2, 1, 1).unique_component()\n",
    "l = list(C.get_iterator(a, 4))\n",
    "l"
   ]
  },
  {
   "cell_type": "code",
   "execution_count": 23,
   "id": "0855b243",
   "metadata": {},
   "outputs": [
    {
     "name": "stdout",
     "output_type": "stream",
     "text": [
      "7\n"
     ]
    },
    {
     "data": {
      "text/plain": [
       "[((0,), (1, 2)), ((1, 4, 2, 3), (5, 6)), ((5,), (4,)), ((6,), (0, 3))]"
      ]
     },
     "execution_count": 23,
     "metadata": {},
     "output_type": "execute_result"
    }
   ],
   "source": [
    "cd = l[1]\n",
    "print(cd.degree())\n",
    "cd.cylinders()"
   ]
  },
  {
   "cell_type": "code",
   "execution_count": 65,
   "id": "9f17495f",
   "metadata": {},
   "outputs": [],
   "source": [
    "def check_sets(element, list_sets):\n",
    "    for s in list_sets:\n",
    "        if element in s:\n",
    "            return true\n",
    "    return false\n",
    "\n",
    "def compute_singularities(perm):\n",
    "    \"\"\"Computes a list of singularities. \n",
    "    \n",
    "    Each saddle is identified with its right vertex. A singularity is then an equivalence class (set) of saddles.\"\"\"\n",
    "    singularities = []\n",
    "    for i in perm:\n",
    "        if check_sets(i, singularities):\n",
    "            continue\n",
    "        \n",
    "        next_set = {i}\n",
    "        while perm[i] not in next_set:\n",
    "            i = perm[i]\n",
    "            next_set.add(i)\n",
    "        singularities.append(next_set)\n",
    "    return singularities\n",
    "\n",
    "def find_element_in_partition(partition, element):\n",
    "    \"\"\"Gives the singularity corresponding to the right vertex of the saddle.\"\"\"\n",
    "    for i, part in enumerate(partition):\n",
    "        if element in part:\n",
    "            return i\n",
    "\n",
    "def collapse_same_genus(cylinder_diagram, cylinder_class):\n",
    "    \"\"\"Tells whether a certain collapse will be in the same genus.\n",
    "    \n",
    "    Return true if the collapse is forced to be the same genus.\n",
    "    Return false if the collapse may be a lower genus.\n",
    "    \n",
    "    cylinder_list is a list of ints corresponding to the cylinder equivalence class being collapsed\n",
    "    cylinder_diagram is a surface_dynamics.flat_surfaces.separatrix_diagram.CylinderDiagram object that represents a translation surface\n",
    "    \"\"\"\n",
    "    sing_list = compute_singularities(cylinder_diagram.outgoing_edges_perm())\n",
    "    digraph = nx.DiGraph()\n",
    "    digraph.add_nodes_from(range(len(sing_list)))\n",
    "    \n",
    "    cylinders = cylinder_diagram.cylinders()\n",
    "    for c_index in cylinder_class:\n",
    "        for bot_saddle in cylinders[c_index][0]:\n",
    "            for top_saddle in cylinders[c_index][1]:\n",
    "                start = find_singularity_of_saddle(sing_list, bot_saddle)\n",
    "                end = find_element_in_partition(sing_list, top_saddle)\n",
    "                digraph.add_edge(start, end)\n",
    "    nx.draw(digraph, with_labels=True, font_weight='bold')\n",
    "    if nx.is_directed_acyclic_graph(digraph):\n",
    "        return True\n",
    "    return False"
   ]
  },
  {
   "cell_type": "code",
   "execution_count": 66,
   "id": "a5bdecc5",
   "metadata": {},
   "outputs": [
    {
     "name": "stdout",
     "output_type": "stream",
     "text": [
      "[{0, 1, 3}, {2, 4}, {5, 6}]\n"
     ]
    },
    {
     "data": {
      "text/plain": [
       "False"
      ]
     },
     "execution_count": 66,
     "metadata": {},
     "output_type": "execute_result"
    },
    {
     "data": {
      "image/png": "[encoded data removed]",
      "text/plain": [
       "<Figure size 432x288 with 1 Axes>"
      ]
     },
     "metadata": {},
     "output_type": "display_data"
    }
   ],
   "source": [
    "print(compute_singularities(cd.outgoing_edges_perm()))\n",
    "collapse_same_genus(cd, [0, 1])"
   ]
  },
  {
   "cell_type": "code",
   "execution_count": 71,
   "id": "e18b08e6",
   "metadata": {},
   "outputs": [],
   "source": [
    "class CylinderClasses:\n",
    "    def __init__(self, cyl_diag, classes):\n",
    "        self.cyl_diag = cyl_diag\n",
    "        self.classes = classes\n",
    "\n",
    "def valid_cylinder_equivalence_classes(cyl_diag, num_classes, free_cylinders = True):\n",
    "    \"\"\"Cylinders are numbered. An edge is draw if the cylinders are connected.\"\"\"\n",
    "    cylinders = cyl_diag.cylinders()\n",
    "    \n",
    "    digraph_data = [[None, None] for _ in range(cd.degree())]\n",
    "    for i, (bot, top) in enumerate(cyl_diag.cylinders()):\n",
    "        for separatrix in bot:\n",
    "            digraph_data[separatrix][0] = i\n",
    "        for separatrix in top:\n",
    "            digraph_data[separatrix][1] = i\n",
    "    print(digraph_data)\n",
    "    \n",
    "    G = nx.DiGraph()\n",
    "    G.add_nodes_from(range(len(cylinders)))\n",
    "    for source, dest in digraph_data:\n",
    "        G.add_edge(source, dest)\n",
    "    \n",
    "    nx.draw(G, with_labels=True, font_weight='bold')\n",
    "\n",
    "def two_implies_three(partition, condition):\n",
    "    \"\"\"Check the partition satisfies a property.\n",
    "    \n",
    "    condition contains three integers. \n",
    "    If a set in partition contains two of these integers then it must contain the third.\n",
    "    Return whether this property is satisfied.\n",
    "    \"\"\"\n",
    "    first = find_element_in_partition(partition, condition[0])\n",
    "    second = find_element_in_partition(partition, condition[1])\n",
    "    third = find_element_in_partition(partition, condition[2])\n",
    "    if (first == second == third):\n",
    "        return True\n",
    "    elif (first == second) or (first == third) or (second == third):\n",
    "        return False\n",
    "    else:\n",
    "        return True\n",
    "\n",
    "def partitions(n, m, singletons=True):\n",
    "    \"\"\"List all ways to partition the set [1..n] into m sets.\n",
    "    \n",
    "    If singletons==False, do not allow singleton sets.\"\"\"\n",
    "    def contains_singleton(l):\n",
    "        return any([i == 1 for i in l])\n",
    "\n",
    "    partitions = []\n",
    "    underlying_part = Partitions(n, length=m).list()\n",
    "    if not singletons:\n",
    "        underlying_part = [i for i in underlying_part if not contains_singleton(i)]\n",
    "    for up in underlying_part:\n",
    "        partitions.extend(SetPartitions(n, up))\n",
    "    return partitions\n",
    "\n",
    "assert(len(partitions(5, 2, singletons=False)) == 10)\n",
    "assert(len(partitions(5, 2, singletons=True)) == 15)\n",
    "assert(len(partitions(6, 2, singletons=False)) == 25)\n",
    "assert(len(partitions(6, 3, singletons=False)) == 15)"
   ]
  },
  {
   "cell_type": "code",
   "execution_count": 68,
   "id": "9c07640b",
   "metadata": {},
   "outputs": [
    {
     "name": "stdout",
     "output_type": "stream",
     "text": [
      "[[0, 3], [1, 0], [1, 0], [1, 3], [1, 2], [2, 1], [3, 1]]\n"
     ]
    },
    {
     "data": {
      "image/png": "[encoded data removed]",
      "text/plain": [
       "<Figure size 432x288 with 1 Axes>"
      ]
     },
     "metadata": {},
     "output_type": "display_data"
    }
   ],
   "source": [
    "valid_cylinder_equivalence_classes(cd, 2)"
   ]
  },
  {
   "cell_type": "code",
   "execution_count": null,
   "id": "6c62466d",
   "metadata": {},
   "outputs": [],
   "source": []
  }
 ],
 "metadata": {
  "kernelspec": {
   "display_name": "SageMath 9.5",
   "language": "sage",
   "name": "sagemath"
  },
  "language_info": {
   "codemirror_mode": {
    "name": "ipython",
    "version": 3
   },
   "file_extension": ".py",
   "mimetype": "text/x-python",
   "name": "python",
   "nbconvert_exporter": "python",
   "pygments_lexer": "ipython3",
   "version": "3.10.6"
  }
 },
 "nbformat": 4,
 "nbformat_minor": 5
}

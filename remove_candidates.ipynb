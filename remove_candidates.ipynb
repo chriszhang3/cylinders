{
 "cells": [
  {
   "cell_type": "code",
   "execution_count": 2,
   "id": "c2113a94",
   "metadata": {
    "scrolled": true
   },
   "outputs": [],
   "source": [
    "import networkx as nx\n",
    "import matplotlib.pyplot as plt\n",
    "from surface_dynamics.databases.flat_surfaces import CylinderDiagrams\n",
    "from surface_dynamics import AbelianStratum\n",
    "import sys\n",
    "from utils import find_generic_pants, find_homologous_cylinders, valid_equivalence_classes"
   ]
  },
  {
   "cell_type": "code",
   "execution_count": 3,
   "id": "9f17495f",
   "metadata": {},
   "outputs": [],
   "source": [
    "def check_sets(element, list_sets):\n",
    "    for s in list_sets:\n",
    "        if element in s:\n",
    "            return True\n",
    "    return False\n",
    "\n",
    "def compute_singularities(perm):\n",
    "    \"\"\"Computes a list of singularities. \n",
    "    \n",
    "    Each saddle is identified with its right vertex. A singularity is then an equivalence class (set) of saddles.\"\"\"\n",
    "    singularities = []\n",
    "    for i in perm:\n",
    "        if check_sets(i, singularities):\n",
    "            continue\n",
    "        \n",
    "        next_set = {i}\n",
    "        while perm[i] not in next_set:\n",
    "            i = perm[i]\n",
    "            next_set.add(i)\n",
    "        singularities.append(next_set)\n",
    "    return singularities\n",
    "\n",
    "def find_element_in_partition(partition, element):\n",
    "    \"\"\"Gives the singularity corresponding to the right vertex of the saddle.\"\"\"\n",
    "    for i, part in enumerate(partition):\n",
    "        if element in part:\n",
    "            return i\n",
    "\n",
    "def collapse_same_genus(cylinder_diagram, cylinder_class):\n",
    "    \"\"\"Tells whether a certain collapse will be in the same genus.\n",
    "    \n",
    "    Return true if the collapse is forced to be the same genus.\n",
    "    Return false if the collapse may be a lower genus.\n",
    "    \n",
    "    cylinder_list is a list of ints corresponding to the cylinder equivalence class being collapsed\n",
    "    cylinder_diagram is a surface_dynamics.flat_surfaces.separatrix_diagram.CylinderDiagram object that represents a translation surface\n",
    "    \"\"\"\n",
    "    sing_list = compute_singularities(cylinder_diagram.outgoing_edges_perm())\n",
    "    digraph = nx.DiGraph()\n",
    "    digraph.add_nodes_from(range(len(sing_list)))\n",
    "    \n",
    "    cylinders = cylinder_diagram.cylinders()\n",
    "    for cylinder in cylinder_class:\n",
    "        for c_index in cylinder:\n",
    "            for bot_saddle in cylinders[c_index][0]:\n",
    "                for top_saddle in cylinders[c_index][1]:\n",
    "                    start = find_element_in_partition(sing_list, bot_saddle)\n",
    "                    end = find_element_in_partition(sing_list, top_saddle)\n",
    "                    digraph.add_edge(start, end)\n",
    "    # nx.draw(digraph, with_labels=True, font_weight='bold')\n",
    "    if nx.is_directed_acyclic_graph(digraph):\n",
    "        return True\n",
    "    return False"
   ]
  },
  {
   "cell_type": "code",
   "execution_count": 4,
   "id": "5e5581de",
   "metadata": {},
   "outputs": [],
   "source": [
    "# C = CylinderDiagrams()\n",
    "# strata = []\n",
    "# strata.append(AbelianStratum(2, 2).components()[1])\n",
    "# strata.append(AbelianStratum(3, 1).components()[0])\n",
    "# strata.append(AbelianStratum(2, 1, 1).components()[0])\n",
    "# strata.append(AbelianStratum(1, 1, 1, 1).components()[0])\n",
    "\n",
    "# for H in strata:\n",
    "#     cylinders = list(C.get_iterator(H, 4))\n",
    "#     print(H)\n",
    "#     for cd in cylinders:\n",
    "#         hom = find_homologous_cylinders(cd)\n",
    "#         if hom:\n",
    "#             print(cd, hom)"
   ]
  },
  {
   "cell_type": "code",
   "execution_count": 5,
   "id": "88b703c8",
   "metadata": {},
   "outputs": [],
   "source": [
    "C = CylinderDiagrams()\n",
    "strata = []\n",
    "strata.append(AbelianStratum(2, 2).components()[1])\n",
    "strata.append(AbelianStratum(3, 1).components()[0])\n",
    "strata.append(AbelianStratum(2, 1, 1).components()[0])\n",
    "strata.append(AbelianStratum(1, 1, 1, 1).components()[0])\n",
    "\n",
    "stdout = sys.stdout\n",
    "\n",
    "for i in range(4, 5):\n",
    "    with open(f\"c-{i}-homologous.txt\", \"w\") as file:\n",
    "        sys.stdout = file\n",
    "        for H in strata:\n",
    "            try:\n",
    "                cylinders = list(C.get_iterator(H, i))\n",
    "                print(H)\n",
    "                for c in cylinders:\n",
    "                    h = find_homologous_cylinders(c)\n",
    "                    if h:\n",
    "                        print(c, h[0])\n",
    "            except ValueError:\n",
    "                continue\n",
    "            print()\n",
    "sys.stdout = stdout"
   ]
  },
  {
   "cell_type": "code",
   "execution_count": 6,
   "id": "9c07640b",
   "metadata": {},
   "outputs": [
    {
     "name": "stdout",
     "output_type": "stream",
     "text": [
      "2680\n"
     ]
    }
   ],
   "source": [
    "C = CylinderDiagrams()\n",
    "# H = AbelianStratum(2, 2).components()[1]\n",
    "# H = AbelianStratum(2, 1, 1).components()[0]\n",
    "# H = AbelianStratum(1, 1, 1, 1).components()[0]\n",
    "H = AbelianStratum(7, 1).components()[0]\n",
    "\n",
    "# H = AbelianStratum(2, 2).components()[1]\n",
    "num_cylinders = 6\n",
    "num_classes = 3\n",
    "\n",
    "\n",
    "diagram_list = list(C.get_iterator(H, num_cylinders))\n",
    "print(len(diagram_list))\n"
   ]
  },
  {
   "cell_type": "code",
   "execution_count": 7,
   "id": "66005870",
   "metadata": {},
   "outputs": [
    {
     "ename": "NameError",
     "evalue": "name 'valid_cylinder_equivalence_classes' is not defined",
     "output_type": "error",
     "traceback": [
      "\u001b[0;31m---------------------------------------------------------------------------\u001b[0m",
      "\u001b[0;31mNameError\u001b[0m                                 Traceback (most recent call last)",
      "\u001b[0;32m/tmp/ipykernel_125995/1908676189.py\u001b[0m in \u001b[0;36m<module>\u001b[0;34m\u001b[0m\n\u001b[1;32m      1\u001b[0m \u001b[0mi\u001b[0m \u001b[0;34m=\u001b[0m \u001b[0mInteger\u001b[0m\u001b[0;34m(\u001b[0m\u001b[0;36m0\u001b[0m\u001b[0;34m)\u001b[0m\u001b[0;34m\u001b[0m\u001b[0;34m\u001b[0m\u001b[0m\n\u001b[1;32m      2\u001b[0m \u001b[0;32mfor\u001b[0m \u001b[0mcd\u001b[0m \u001b[0;32min\u001b[0m \u001b[0mC\u001b[0m\u001b[0;34m.\u001b[0m\u001b[0mget_iterator\u001b[0m\u001b[0;34m(\u001b[0m\u001b[0mH\u001b[0m\u001b[0;34m,\u001b[0m \u001b[0mnum_cylinders\u001b[0m\u001b[0;34m)\u001b[0m\u001b[0;34m:\u001b[0m\u001b[0;34m\u001b[0m\u001b[0;34m\u001b[0m\u001b[0m\n\u001b[0;32m----> 3\u001b[0;31m     \u001b[0mpossible_classes\u001b[0m \u001b[0;34m=\u001b[0m \u001b[0mvalid_cylinder_equivalence_classes\u001b[0m\u001b[0;34m(\u001b[0m\u001b[0mcd\u001b[0m\u001b[0;34m,\u001b[0m \u001b[0mnum_classes\u001b[0m\u001b[0;34m,\u001b[0m \u001b[0mfree_cylinders\u001b[0m\u001b[0;34m=\u001b[0m\u001b[0;32mFalse\u001b[0m\u001b[0;34m)\u001b[0m\u001b[0;34m\u001b[0m\u001b[0;34m\u001b[0m\u001b[0m\n\u001b[0m\u001b[1;32m      4\u001b[0m     \u001b[0;32mif\u001b[0m \u001b[0mpossible_classes\u001b[0m\u001b[0;34m:\u001b[0m\u001b[0;34m\u001b[0m\u001b[0;34m\u001b[0m\u001b[0m\n\u001b[1;32m      5\u001b[0m         \u001b[0mprint\u001b[0m\u001b[0;34m(\u001b[0m\u001b[0mcd\u001b[0m\u001b[0;34m)\u001b[0m\u001b[0;34m\u001b[0m\u001b[0;34m\u001b[0m\u001b[0m\n",
      "\u001b[0;31mNameError\u001b[0m: name 'valid_cylinder_equivalence_classes' is not defined"
     ]
    }
   ],
   "source": [
    "i = 0\n",
    "for cd in C.get_iterator(H, num_cylinders):\n",
    "    possible_classes = valid_cylinder_classes(cd, num_classes, free_cylinders=False)\n",
    "    if possible_classes:\n",
    "        print(cd)\n",
    "        i += 1\n",
    "        # print('\\t', compute_singularities(cd.outgoing_edges_perm()))\n",
    "print(i)"
   ]
  },
  {
   "cell_type": "code",
   "execution_count": null,
   "id": "e36794fd",
   "metadata": {},
   "outputs": [],
   "source": []
  }
 ],
 "metadata": {
  "kernelspec": {
   "display_name": "SageMath 9.5",
   "language": "sage",
   "name": "sagemath"
  },
  "language_info": {
   "codemirror_mode": {
    "name": "ipython",
    "version": 3
   },
   "file_extension": ".py",
   "mimetype": "text/x-python",
   "name": "python",
   "nbconvert_exporter": "python",
   "pygments_lexer": "ipython3",
   "version": "3.10.6"
  }
 },
 "nbformat": 4,
 "nbformat_minor": 5
}

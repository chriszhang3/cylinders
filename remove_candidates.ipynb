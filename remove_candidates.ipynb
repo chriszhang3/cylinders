{
 "cells": [
  {
   "cell_type": "code",
   "execution_count": 2,
   "id": "c2113a94",
   "metadata": {
    "scrolled": true
   },
   "outputs": [],
   "source": [
    "import networkx as nx\n",
    "import matplotlib.pyplot as plt\n",
    "from surface_dynamics.databases.flat_surfaces import CylinderDiagrams\n",
    "from surface_dynamics import AbelianStratum\n",
    "import sys\n",
    "from utils import find_generic_pants, find_homologous_cylinders, valid_equivalence_classes"
   ]
  },
  {
   "cell_type": "code",
   "execution_count": 3,
   "id": "9f17495f",
   "metadata": {},
   "outputs": [],
   "source": [
    "def check_sets(element, list_sets):\n",
    "    for s in list_sets:\n",
    "        if element in s:\n",
    "            return True\n",
    "    return False\n",
    "\n",
    "def compute_singularities(perm):\n",
    "    \"\"\"Computes a list of singularities. \n",
    "    \n",
    "    Each saddle is identified with its right vertex. A singularity is then an equivalence class (set) of saddles.\"\"\"\n",
    "    singularities = []\n",
    "    for i in perm:\n",
    "        if check_sets(i, singularities):\n",
    "            continue\n",
    "        \n",
    "        next_set = {i}\n",
    "        while perm[i] not in next_set:\n",
    "            i = perm[i]\n",
    "            next_set.add(i)\n",
    "        singularities.append(next_set)\n",
    "    return singularities\n",
    "\n",
    "def find_element_in_partition(partition, element):\n",
    "    \"\"\"Gives the singularity corresponding to the right vertex of the saddle.\"\"\"\n",
    "    for i, part in enumerate(partition):\n",
    "        if element in part:\n",
    "            return i\n",
    "\n",
    "def collapse_same_genus(cylinder_diagram, cylinder_class):\n",
    "    \"\"\"Tells whether a certain collapse will be in the same genus.\n",
    "    \n",
    "    Return true if the collapse is forced to be the same genus.\n",
    "    Return false if the collapse may be a lower genus.\n",
    "    \n",
    "    cylinder_list is a list of ints corresponding to the cylinder equivalence class being collapsed\n",
    "    cylinder_diagram is a surface_dynamics.flat_surfaces.separatrix_diagram.CylinderDiagram object that represents a translation surface\n",
    "    \"\"\"\n",
    "    sing_list = compute_singularities(cylinder_diagram.outgoing_edges_perm())\n",
    "    digraph = nx.DiGraph()\n",
    "    digraph.add_nodes_from(range(len(sing_list)))\n",
    "    \n",
    "    cylinders = cylinder_diagram.cylinders()\n",
    "    for cylinder in cylinder_class:\n",
    "        for c_index in cylinder:\n",
    "            for bot_saddle in cylinders[c_index][0]:\n",
    "                for top_saddle in cylinders[c_index][1]:\n",
    "                    start = find_element_in_partition(sing_list, bot_saddle)\n",
    "                    end = find_element_in_partition(sing_list, top_saddle)\n",
    "                    digraph.add_edge(start, end)\n",
    "    # nx.draw(digraph, with_labels=True, font_weight='bold')\n",
    "    if nx.is_directed_acyclic_graph(digraph):\n",
    "        return True\n",
    "    return False"
   ]
  },
  {
   "cell_type": "code",
   "execution_count": 4,
   "id": "5e5581de",
   "metadata": {},
   "outputs": [],
   "source": [
    "# C = CylinderDiagrams()\n",
    "# strata = []\n",
    "# strata.append(AbelianStratum(2, 2).components()[1])\n",
    "# strata.append(AbelianStratum(3, 1).components()[0])\n",
    "# strata.append(AbelianStratum(2, 1, 1).components()[0])\n",
    "# strata.append(AbelianStratum(1, 1, 1, 1).components()[0])\n",
    "\n",
    "# for H in strata:\n",
    "#     cylinders = list(C.get_iterator(H, 4))\n",
    "#     print(H)\n",
    "#     for cd in cylinders:\n",
    "#         hom = find_homologous_cylinders(cd)\n",
    "#         if hom:\n",
    "#             print(cd, hom)"
   ]
  },
  {
   "cell_type": "code",
   "execution_count": 5,
   "id": "88b703c8",
   "metadata": {},
   "outputs": [],
   "source": [
    "# C = CylinderDiagrams()\n",
    "# strata = []\n",
    "# strata.append(AbelianStratum(2, 2).components()[1])\n",
    "# strata.append(AbelianStratum(3, 1).components()[0])\n",
    "# strata.append(AbelianStratum(2, 1, 1).components()[0])\n",
    "# strata.append(AbelianStratum(1, 1, 1, 1).components()[0])\n",
    "\n",
    "# stdout = sys.stdout\n",
    "\n",
    "# for i in range(4, 5):\n",
    "#     with open(f\"c-{i}-homologous.txt\", \"w\") as file:\n",
    "#         sys.stdout = file\n",
    "#         for H in strata:\n",
    "#             try:\n",
    "#                 cylinders = list(C.get_iterator(H, i))\n",
    "#                 print(H)\n",
    "#                 for c in cylinders:\n",
    "#                     h = find_homologous_cylinders(c)\n",
    "#                     if h:\n",
    "#                         print(c, h[0])\n",
    "#             except ValueError:\n",
    "#                 continue\n",
    "#             print()\n",
    "# sys.stdout = stdout"
   ]
  },
  {
   "cell_type": "code",
   "execution_count": 7,
   "id": "e36794fd",
   "metadata": {},
   "outputs": [],
   "source": [
    "def save_output(function):\n",
    "    def function_with_save(*args):\n",
    "        stdout = sys.stdout\n",
    "        function(*args)\n",
    "        sys.stdout = stdout\n",
    "    return function_with_save"
   ]
  },
  {
   "cell_type": "code",
   "execution_count": 21,
   "id": "9c07640b",
   "metadata": {},
   "outputs": [
    {
     "name": "stdout",
     "output_type": "stream",
     "text": [
      "4\n"
     ]
    }
   ],
   "source": [
    "C = CylinderDiagrams()\n",
    "# H = AbelianStratum(2, 2).components()[1]\n",
    "# H = AbelianStratum(2, 1, 1).components()[0]\n",
    "H = AbelianStratum(1, 1, 1, 1).components()[0]\n",
    "# H = AbelianStratum(7, 1).components()[0]\n",
    "\n",
    "# H = AbelianStratum(2, 2).components()[1]\n",
    "num_cylinders = 6\n",
    "num_classes = [4]\n",
    "\n",
    "\n",
    "diagram_list = list(C.get_iterator(H, num_cylinders))\n",
    "print(len(diagram_list))\n"
   ]
  },
  {
   "cell_type": "code",
   "execution_count": 23,
   "id": "66005870",
   "metadata": {},
   "outputs": [
    {
     "name": "stdout",
     "output_type": "stream",
     "text": [
      "(0,1)-(7) (2)-(1) (3)-(0) (4,7)-(5,6) (5)-(4) (6)-(2,3) [{{0, 5}, {1}, {2, 4}, {3}}, {{0, 5}, {1, 4}, {2}, {3}}, {{0, 5}, {1, 3}, {2}, {4}}, {{0, 5}, {1}, {2, 3}, {4}}, {{0}, {1, 3}, {2, 4}, {5}}, {{0}, {1, 4}, {2, 3}, {5}}]\n",
      "\n",
      "(0,1)-(7) (2)-(0) (3)-(4) (4,7)-(5,6) (5)-(1) (6)-(2,3) [{{0}, {1}, {2}, {3, 4, 5}}, {{0}, {1, 2, 5}, {3}, {4}}, {{0, 2, 3}, {1}, {4}, {5}}, {{0, 1, 4}, {2}, {3}, {5}}, {{0, 5}, {1}, {2, 4}, {3}}, {{0, 5}, {1, 3}, {2}, {4}}, {{0}, {1, 3}, {2, 4}, {5}}]\n",
      "\n",
      "(0,3)-(6,7) (1,2)-(4,5) (4)-(3) (5)-(0) (6)-(2) (7)-(1) [{{0}, {1}, {2, 4}, {3, 5}}, {{0}, {1}, {2, 5}, {3, 4}}, {{0, 1}, {2, 5}, {3}, {4}}, {{0, 1}, {2}, {3, 5}, {4}}, {{0, 1}, {2}, {3, 4}, {5}}, {{0, 1}, {2, 4}, {3}, {5}}]\n",
      "\n",
      "(0,3)-(6,7) (1,2)-(4,5) (4)-(1) (5)-(3) (6)-(2) (7)-(0) [{{0}, {1, 5}, {2}, {3, 4}}, {{0}, {1}, {2, 5}, {3, 4}}, {{0, 1}, {2, 5}, {3}, {4}}, {{0, 2}, {1, 5}, {3}, {4}}, {{0, 2}, {1}, {3, 4}, {5}}, {{0, 1}, {2}, {3, 4}, {5}}]\n",
      "\n"
     ]
    }
   ],
   "source": [
    "def main():\n",
    "    i = 0\n",
    "    for cd in C.get_iterator(H, num_cylinders):\n",
    "        possible_classes = valid_equivalence_classes(cd, num_classes, free_cylinders=True)\n",
    "        if possible_classes:\n",
    "            print(cd, possible_classes)\n",
    "            i += 1\n",
    "            print()\n",
    "main()"
   ]
  },
  {
   "cell_type": "code",
   "execution_count": null,
   "id": "efe46035",
   "metadata": {},
   "outputs": [],
   "source": []
  }
 ],
 "metadata": {
  "kernelspec": {
   "display_name": "SageMath 9.5",
   "language": "sage",
   "name": "sagemath"
  },
  "language_info": {
   "codemirror_mode": {
    "name": "ipython",
    "version": 3
   },
   "file_extension": ".py",
   "mimetype": "text/x-python",
   "name": "python",
   "nbconvert_exporter": "python",
   "pygments_lexer": "ipython3",
   "version": "3.10.6"
  }
 },
 "nbformat": 4,
 "nbformat_minor": 5
}

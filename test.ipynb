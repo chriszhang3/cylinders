{
 "cells": [
  {
   "cell_type": "code",
   "execution_count": 1,
   "metadata": {
    "vscode": {
     "languageId": "python"
    }
   },
   "outputs": [],
   "source": [
    "from surface_dynamics import CylinderDiagram\n",
    "from surface_dynamics.databases.flat_surfaces import CylinderDiagrams\n",
    "from surface_dynamics import AbelianStratum\n",
    "import sys\n",
    "from utils import filter_leaf_condition, list_partitions"
   ]
  },
  {
   "cell_type": "code",
   "execution_count": 5,
   "metadata": {
    "vscode": {
     "languageId": "python"
    }
   },
   "outputs": [
    {
     "data": {
      "text/plain": [
       "[{{0}, {1, 2, 3}},\n",
       " {{0, 1, 2}, {3}},\n",
       " {{0, 1, 3}, {2}},\n",
       " {{0, 2, 3}, {1}},\n",
       " {{0, 1}, {2, 3}},\n",
       " {{0, 3}, {1, 2}},\n",
       " {{0, 2}, {1, 3}}]"
      ]
     },
     "execution_count": 5,
     "metadata": {},
     "output_type": "execute_result"
    }
   ],
   "source": [
    "part_list = list_partitions(4, 2)\n",
    "part_list"
   ]
  },
  {
   "cell_type": "code",
   "execution_count": 3,
   "metadata": {
    "vscode": {
     "languageId": "python"
    }
   },
   "outputs": [
    {
     "data": {
      "text/plain": [
       "[{{0, 1, 2}, {3}}, {{0, 1, 3}, {2}}, {{0, 3}, {1, 2}}, {{0, 2}, {1, 3}}]"
      ]
     },
     "execution_count": 3,
     "metadata": {},
     "output_type": "execute_result"
    }
   ],
   "source": [
    "cd = CylinderDiagram(\"(0,1)-(0,2) (2)-(3) (3,4)-(1,5) (5)-(4)\")\n",
    "filter_leaf_condition(cd, part_list)"
   ]
  }
 ],
 "metadata": {
  "kernelspec": {
   "display_name": "SageMath 9.5",
   "language": "sage",
   "name": "sagemath"
  },
  "language_info": {
   "codemirror_mode": {
    "name": "ipython",
    "version": 3
   },
   "file_extension": ".py",
   "mimetype": "text/x-python",
   "name": "sage",
   "nbconvert_exporter": "python",
   "pygments_lexer": "ipython3",
   "version": "3.10.5"
  },
  "orig_nbformat": 4,
  "vscode": {
   "interpreter": {
    "hash": "5f0eda341e7de797b5f36e8ff2b1a25754ea880418e1824dba08bb528a55eeb7"
   }
  }
 },
 "nbformat": 4,
 "nbformat_minor": 2
}

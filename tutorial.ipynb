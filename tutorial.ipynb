{
 "cells": [
  {
   "attachments": {},
   "cell_type": "markdown",
   "metadata": {},
   "source": [
    "# $\\mathcal M$-Parallel Classes"
   ]
  },
  {
   "attachments": {},
   "cell_type": "markdown",
   "metadata": {},
   "source": [
    "The purpose of this notebook is to use Sage to assist in the classification of rank 2 invariant subvarieties in strata of translation surfaces in genus 3. This classification was already done through other methods by David Aulicino, Duc Man Nguyen, and Alex Wright, but the methods described here, which is also used in my forthcoming PhD thesis will useful in how it can be readily applied to other strata.\n",
    "\n",
    "Assume $\\mathcal M$ is an invariant subvariety in a stratum $\\mathcal H$. We will start with a horizontally periodic translation surface $M\\in \\mathcal M$. A database for the possible cylinder diagrams for $M$ can be found in `surface-dynamics`: see [documentation](https://flatsurf.github.io/surface-dynamics/database.html)."
   ]
  },
  {
   "attachments": {},
   "cell_type": "markdown",
   "metadata": {},
   "source": []
  }
 ],
 "metadata": {
  "language_info": {
   "name": "python"
  },
  "orig_nbformat": 4
 },
 "nbformat": 4,
 "nbformat_minor": 2
}

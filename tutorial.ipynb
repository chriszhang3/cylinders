{
 "cells": [
  {
   "attachments": {},
   "cell_type": "markdown",
   "metadata": {},
   "source": [
    "# $\\mathcal M$-Parallel Classes"
   ]
  },
  {
   "attachments": {},
   "cell_type": "markdown",
   "metadata": {},
   "source": [
    "The purpose of this notebook is to use Sage to assist in the classification of rank 2 invariant subvarieties in strata of translation surfaces in genus 3. This classification was already done through other methods by David Aulicino, Duc Man Nguyen, and Alex Wright, but the methods described here, which is also used in my forthcoming PhD thesis will useful in how it can be readily applied to other strata.\n",
    "\n",
    "Assume $\\mathcal M$ is an invariant subvariety in a stratum $\\mathcal H$. We will start with a horizontally periodic translation surface $M\\in \\mathcal M$. A database for the possible cylinder diagrams for $M$ can be found in `surface-dynamics`: see [here](https://flatsurf.github.io/surface-dynamics/database.html). Here is an example:"
   ]
  },
  {
   "cell_type": "code",
   "execution_count": 1,
   "metadata": {},
   "outputs": [
    {
     "data": {
      "text/plain": [
       "(0,2)-(6) (1,4)-(3,5) (3,6)-(2,4) (5)-(0,1)"
      ]
     },
     "execution_count": 1,
     "metadata": {},
     "output_type": "execute_result"
    }
   ],
   "source": [
    "from surface_dynamics import CylinderDiagram\n",
    "\n",
    "cd = CylinderDiagram('(0,2)-(6) (1,4)-(3,5) (3,6)-(2,4) (5)-(0,1)')\n",
    "cd"
   ]
  },
  {
   "attachments": {},
   "cell_type": "markdown",
   "metadata": {},
   "source": [
    "![Drawing of above cylinder diagram](h211-c4-9-1.png)"
   ]
  },
  {
   "attachments": {},
   "cell_type": "markdown",
   "metadata": {},
   "source": [
    "Assume $M$ has a cylinder diagram with $n$ cylinders, and label them $0$ to $n-1$. Assume that these cylinders are partitioned into $m$ distinct $\\cal M$-parallel classes, and we want to know all possible ways to do this. The following function uses existing Sage functions to list all possible partitions. The point of this notebook is to filter out some of these candidate partitions. Although we won't use it here, you can set `singletons=False` if you do not want to allow cylinders in an $\\cal M$-parallel class by themselves."
   ]
  },
  {
   "cell_type": "code",
   "execution_count": 2,
   "metadata": {},
   "outputs": [
    {
     "data": {
      "text/plain": [
       "[{{0}, {1, 2, 3}},\n",
       " {{0, 1, 2}, {3}},\n",
       " {{0, 1, 3}, {2}},\n",
       " {{0, 2, 3}, {1}},\n",
       " {{0, 1}, {2, 3}},\n",
       " {{0, 3}, {1, 2}},\n",
       " {{0, 2}, {1, 3}}]"
      ]
     },
     "execution_count": 2,
     "metadata": {},
     "output_type": "execute_result"
    }
   ],
   "source": [
    "from sage.all import Partitions, SetPartitions\n",
    "\n",
    "def list_partitions(n, m, singletons=True):\n",
    "    \"\"\"Return a list of all ways to partition the set [1..n] into m sets.\n",
    "    \n",
    "    If singletons==False, do not allow singleton sets.\n",
    "\n",
    "    Each element of each partition is a frozen set.\n",
    "    Each partition is an instance of\n",
    "    `sage.combinat.set_partition.SetPartitions_setparts_with_category.element_class`.\"\"\"\n",
    "\n",
    "    partitions = []\n",
    "\n",
    "    # Partition the integer n into m nonzero integers\n",
    "    int_parts = Partitions(n, length=m).list()\n",
    "\n",
    "    # Checks for singleton sets\n",
    "    if not singletons:\n",
    "        int_parts = [l for l in int_parts if not any([i == 1 for i in l])]\n",
    "    \n",
    "    # Coverts integer partitions into set partitions\n",
    "    for each_part in int_parts:\n",
    "        partitions.extend(SetPartitions(range(n), each_part))\n",
    "    return partitions\n",
    "\n",
    "# Tests\n",
    "assert len(list_partitions(5, 2, singletons=True)) == 15\n",
    "assert len(list_partitions(6, 2, singletons=False)) == 25\n",
    "assert len(list_partitions(6, 3, singletons=False)) == 15\n",
    "\n",
    "list_partitions(4, 2)"
   ]
  },
  {
   "cell_type": "code",
   "execution_count": 3,
   "metadata": {},
   "outputs": [
    {
     "ename": "AttributeError",
     "evalue": "'DiGraph' object has no attribute 'find_generic_pants'",
     "output_type": "error",
     "traceback": [
      "\u001b[0;31m---------------------------------------------------------------------------\u001b[0m",
      "\u001b[0;31mAttributeError\u001b[0m                            Traceback (most recent call last)",
      "\u001b[0;32m/tmp/ipykernel_124531/2491875591.py\u001b[0m in \u001b[0;36m<module>\u001b[0;34m\u001b[0m\n\u001b[1;32m     48\u001b[0m \u001b[0mcd\u001b[0m \u001b[0;34m=\u001b[0m \u001b[0mCylinderDiagram\u001b[0m\u001b[0;34m(\u001b[0m\u001b[0;34m\"(0,3)-(5) (1)-(2) (2,5)-(3,4) (4)-(0,1)\"\u001b[0m\u001b[0;34m)\u001b[0m\u001b[0;34m\u001b[0m\u001b[0;34m\u001b[0m\u001b[0m\n\u001b[1;32m     49\u001b[0m \u001b[0mpartitions\u001b[0m \u001b[0;34m=\u001b[0m \u001b[0mlist_partitions\u001b[0m\u001b[0;34m(\u001b[0m\u001b[0mInteger\u001b[0m\u001b[0;34m(\u001b[0m\u001b[0;36m4\u001b[0m\u001b[0;34m)\u001b[0m\u001b[0;34m,\u001b[0m \u001b[0mInteger\u001b[0m\u001b[0;34m(\u001b[0m\u001b[0;36m2\u001b[0m\u001b[0;34m)\u001b[0m\u001b[0;34m)\u001b[0m\u001b[0;34m\u001b[0m\u001b[0;34m\u001b[0m\u001b[0m\n\u001b[0;32m---> 50\u001b[0;31m \u001b[0mfilter_pants_condition\u001b[0m\u001b[0;34m(\u001b[0m\u001b[0mcd\u001b[0m\u001b[0;34m,\u001b[0m \u001b[0mpartitions\u001b[0m\u001b[0;34m)\u001b[0m\u001b[0;34m\u001b[0m\u001b[0;34m\u001b[0m\u001b[0m\n\u001b[0m",
      "\u001b[0;32m/tmp/ipykernel_124531/2491875591.py\u001b[0m in \u001b[0;36mfilter_pants_condition\u001b[0;34m(cd, part_list)\u001b[0m\n\u001b[1;32m     42\u001b[0m     \"\"\"\n\u001b[1;32m     43\u001b[0m     \u001b[0mcyl_graph\u001b[0m \u001b[0;34m=\u001b[0m \u001b[0mcd\u001b[0m\u001b[0;34m.\u001b[0m\u001b[0mcylinder_graph\u001b[0m\u001b[0;34m(\u001b[0m\u001b[0;34m)\u001b[0m\u001b[0;34m\u001b[0m\u001b[0;34m\u001b[0m\u001b[0m\n\u001b[0;32m---> 44\u001b[0;31m     \u001b[0mpants_list\u001b[0m \u001b[0;34m=\u001b[0m \u001b[0mlist\u001b[0m\u001b[0;34m(\u001b[0m\u001b[0mcyl_graph\u001b[0m\u001b[0;34m.\u001b[0m\u001b[0mfind_generic_pants\u001b[0m\u001b[0;34m(\u001b[0m\u001b[0;34m)\u001b[0m\u001b[0;34m)\u001b[0m\u001b[0;34m\u001b[0m\u001b[0;34m\u001b[0m\u001b[0m\n\u001b[0m\u001b[1;32m     45\u001b[0m     return [partition for partition in part_list \n\u001b[1;32m     46\u001b[0m                       if check_pants_condition(partition, pants_list)]\n",
      "\u001b[0;31mAttributeError\u001b[0m: 'DiGraph' object has no attribute 'find_generic_pants'"
     ]
    }
   ],
   "source": [
    "def find_cylinder_in_partition(partition, cylinder):\n",
    "    \"\"\"Find the M-parallel class in `partition` than contains `cylinder`.\n",
    "    \n",
    "    `partition` is a list of frozen sets.\n",
    "    `cylinder` is an integer\n",
    "    Return the index of the element of `partition` that contains `cylinder`.\"\"\"\n",
    "    for i, parallel_class in enumerate(partition):\n",
    "        if cylinder in parallel_class:\n",
    "            return i\n",
    "    \n",
    "    # If cylinder was not found in partition\n",
    "    return None\n",
    "\n",
    "def check_pants_condition(partition, pants_list):\n",
    "    \"\"\"Check the partition satisfies any homology conditions coming from \n",
    "    the pants in pants_list.\n",
    "    \n",
    "    `partition` is a partition of the horizontal cylinders into M-parallel\n",
    "    classes.\n",
    "\n",
    "    `pants_list` is a list of pants, where each pants is a frozenset containing\n",
    "    every cylinder in the pants\n",
    "    \n",
    "    The homology condition is the following:\n",
    "    the cylinders in the pants cannot be contained in exactly two distinct sets\n",
    "    in `partition`.\n",
    "    \"\"\"\n",
    "\n",
    "    for pants in pants_list:\n",
    "        \n",
    "        # A list of the cylinder classes that contain a cylinder of pants\n",
    "        cylinder_classes = map(\n",
    "            lambda c: find_cylinder_in_partition(partition, c),\n",
    "            pants\n",
    "        )\n",
    "        if len(set(cylinder_classes)) == 2:\n",
    "            return False\n",
    "    return True\n",
    "\n",
    "def find_generic_pants(cyl_graph):\n",
    "        \"\"\"Finds cases when n cylinders are all only attached to the side\n",
    "        of a single cylinder. This is like a generalized version of a\n",
    "        topological pair of pants allows n pant legs.\n",
    "        \n",
    "        Input: A cylinder diagram.\n",
    "        \n",
    "        Output: A set of pants. Each pants is a frozenset consisting of the \n",
    "        cylinders in the pants.\n",
    "        \n",
    "        Note: For Python 3.7 and higher, frozensets should maintain insertion\n",
    "        order. Thus, the first element of each pants is the waist curve and the\n",
    "        rest are the pant legs. However, we do not use this in our code.\"\"\"\n",
    "\n",
    "        pants_set = set()\n",
    "        for n in cyl_graph:\n",
    "            # If every cylinder above `C` is only adjacent to `C` along its\n",
    "            # bottom, this is a generic pants.\n",
    "            successors = list(self.digraph.successors(n))\n",
    "            if all([list(self.digraph.predecessors(suc)) == [n] \n",
    "                    for suc in successors]):\n",
    "                \n",
    "                pants = frozenset([n] + successors)\n",
    "                pants_set.add(pants)\n",
    "\n",
    "            # If every cylinder below `C` is only adjacent to `C` along its\n",
    "            # top, this is a generic pants.\n",
    "            predecessors = list(self.digraph.predecessors(n))\n",
    "            if all([list(self.digraph.successors(pre)) == [n] \n",
    "                    for pre in predecessors]):\n",
    "\n",
    "                pants = frozenset([n] + predecessors)\n",
    "                pants_set.add(pants)\n",
    "        return pants_set\n",
    "\n",
    "def filter_pants_condition(cd, part_list):\n",
    "    \"\"\"Filter out the partitions in part_list when check_pants_condition=False.\n",
    "    \"\"\"\n",
    "    cyl_graph = cd.cylinder_graph()\n",
    "    pants_list = list(cyl_graph.find_generic_pants())\n",
    "    return [partition for partition in part_list \n",
    "                      if check_pants_condition(partition, pants_list)]\n",
    "\n",
    "cd = CylinderDiagram(\"(0,3)-(5) (1)-(2) (2,5)-(3,4) (4)-(0,1)\")\n",
    "partitions = list_partitions(4, 2)\n",
    "filter_pants_condition(cd, partitions)"
   ]
  },
  {
   "cell_type": "code",
   "execution_count": null,
   "metadata": {},
   "outputs": [],
   "source": []
  }
 ],
 "metadata": {
  "kernelspec": {
   "display_name": "SageMath 9.5",
   "language": "sage",
   "name": "sagemath"
  },
  "language_info": {
   "codemirror_mode": {
    "name": "ipython",
    "version": 3
   },
   "file_extension": ".py",
   "mimetype": "text/x-python",
   "name": "python",
   "nbconvert_exporter": "python",
   "pygments_lexer": "ipython3",
   "version": "3.10.6"
  },
  "orig_nbformat": 4
 },
 "nbformat": 4,
 "nbformat_minor": 2
}

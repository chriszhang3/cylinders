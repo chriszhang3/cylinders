{
 "cells": [
  {
   "cell_type": "code",
   "execution_count": 1,
   "metadata": {},
   "outputs": [],
   "source": [
    "from surface_dynamics.databases.flat_surfaces import CylinderDiagrams\n",
    "from surface_dynamics import AbelianStratum\n",
    "from utils import valid_equivalence_classes"
   ]
  },
  {
   "cell_type": "code",
   "execution_count": 2,
   "metadata": {},
   "outputs": [
    {
     "name": "stdout",
     "output_type": "stream",
     "text": [
      "4\n"
     ]
    }
   ],
   "source": [
    "C = CylinderDiagrams()\n",
    "H = AbelianStratum(3, 1).components()[0]\n",
    "# H = AbelianStratum(2, 2).components()[1]\n",
    "# H = AbelianStratum(2, 1, 1).components()[0]\n",
    "# H = AbelianStratum(1, 1, 1, 1).components()[0]\n",
    "# H = AbelianStratum(7, 1).components()[0]\n",
    "\n",
    "# H = AbelianStratum(2, 2).components()[1]\n",
    "num_cylinders = 4\n",
    "num_classes = [2]\n",
    "\n",
    "\n",
    "diagram_list = list(C.get_iterator(H, num_cylinders))\n",
    "print(len(diagram_list))"
   ]
  },
  {
   "cell_type": "code",
   "execution_count": 21,
   "metadata": {},
   "outputs": [],
   "source": [
    "class Twist:\n",
    "    def __init__(self, cd):\n",
    "        self.cd = cd\n",
    "        cylinders = cd.cylinders()\n",
    "        equations = {}\n",
    "        relations = []\n",
    "\n",
    "        for bot, top in cylinders:\n",
    "            row = [0] * cd.degree()\n",
    "            for s in bot:\n",
    "                row[s] += 1\n",
    "            for s in top:\n",
    "                row[s] -= 1\n",
    "            relations.append(row)\n",
    "        relations = matrix(QQ, relations)\n",
    "        self.relations = relations\n",
    "\n",
    "        for row in relations.rref():\n",
    "            for i, one in enumerate(row):\n",
    "                if one == 1:\n",
    "                    row[i] = 0\n",
    "                    for j in range(len(row)):\n",
    "                        row[j] = -row[j]\n",
    "                    equations[i] = row\n",
    "                    break\n",
    "        self.equations = equations"
   ]
  },
  {
   "cell_type": "code",
   "execution_count": 29,
   "metadata": {},
   "outputs": [],
   "source": [
    "def check_classes(tw):\n",
    "    possible = []\n",
    "    for partition in valid_equivalence_classes(tw.cd, [3]):\n",
    "        twist_space_vectors = []\n",
    "        for cl in partition:\n",
    "            core = vector(QQ, [0] * tw.cd.degree())\n",
    "            for cyl in cl:\n",
    "                if cyl in tw.equations:\n",
    "                    core += tw.equations[cyl]\n",
    "                else:\n",
    "                    basis = [0] * tw.cd.degree()\n",
    "                    basis[cyl] = 1\n",
    "                    core += vector(QQ, basis)\n",
    "            twist_space_vectors.append(core)\n",
    "        V = span(twist_space_vectors, QQ)\n",
    "        if V.dimension() < 3:\n",
    "            possible.append(partition)\n",
    "    return possible"
   ]
  },
  {
   "cell_type": "code",
   "execution_count": 30,
   "metadata": {},
   "outputs": [
    {
     "name": "stdout",
     "output_type": "stream",
     "text": [
      "(0,3)-(5) (1)-(2) (2,5)-(3,4) (4)-(0,1)\n",
      "[ 1  0  0  1  0 -1]\n",
      "[ 0  1 -1  0  0  0]\n",
      "[ 0  0  1 -1 -1  1]\n",
      "[-1 -1  0  0  1  0]\n"
     ]
    },
    {
     "data": {
      "text/plain": [
       "[{{0, 3}, {1}, {2}}]"
      ]
     },
     "execution_count": 30,
     "metadata": {},
     "output_type": "execute_result"
    }
   ],
   "source": [
    "cd = diagram_list[1]\n",
    "print(cd)\n",
    "tw = Twist(cd)\n",
    "print(tw.relations)\n",
    "check_classes(tw)"
   ]
  },
  {
   "cell_type": "code",
   "execution_count": 31,
   "metadata": {},
   "outputs": [
    {
     "name": "stdout",
     "output_type": "stream",
     "text": [
      "(0,3)-(5) (1)-(2) (2,5)-(3,4) (4)-(0,1)\n",
      "[{{0, 3}, {1}, {2}}]\n",
      "(0,1)-(0,2) (2)-(3) (3,4)-(1,5) (5)-(4)\n",
      "[{{0, 3}, {1}, {2}}, {{0, 2}, {1}, {3}}, {{0, 1}, {2}, {3}}]\n"
     ]
    }
   ],
   "source": [
    "for cd in diagram_list:\n",
    "    cc = check_classes(Twist(cd))\n",
    "    if cc:\n",
    "        print(cd)\n",
    "        print(cc)"
   ]
  },
  {
   "cell_type": "code",
   "execution_count": null,
   "metadata": {},
   "outputs": [],
   "source": []
  }
 ],
 "metadata": {
  "kernelspec": {
   "display_name": "SageMath 9.7",
   "language": "sage",
   "name": "SageMath-9.7"
  },
  "language_info": {
   "codemirror_mode": {
    "name": "ipython",
    "version": 3
   },
   "file_extension": ".py",
   "mimetype": "text/x-python",
   "name": "python",
   "nbconvert_exporter": "python",
   "pygments_lexer": "ipython3",
   "version": "3.10.5"
  },
  "orig_nbformat": 4,
  "vscode": {
   "interpreter": {
    "hash": "4610a6e9e9f54719a1d0c8c7cc71b7522e637806fc40bde680b42ac3815c3c21"
   }
  }
 },
 "nbformat": 4,
 "nbformat_minor": 2
}

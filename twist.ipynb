{
 "cells": [
  {
   "cell_type": "code",
   "execution_count": 1,
   "metadata": {},
   "outputs": [],
   "source": [
    "from surface_dynamics.databases.flat_surfaces import CylinderDiagrams\n",
    "from surface_dynamics import AbelianStratum\n",
    "from utils import check_pants_relations, Twist, check_twist_rel, find_homologous_cylinders, list_partitions, check_homologous_cylinders"
   ]
  },
  {
   "cell_type": "code",
   "execution_count": 2,
   "metadata": {},
   "outputs": [
    {
     "name": "stdout",
     "output_type": "stream",
     "text": [
      "5\n"
     ]
    }
   ],
   "source": [
    "C = CylinderDiagrams()\n",
    "# H = AbelianStratum(3, 1).components()[0]\n",
    "H = AbelianStratum(2, 2).components()[1]\n",
    "# H = AbelianStratum(2, 1, 1).components()[0]\n",
    "# H = AbelianStratum(1, 1, 1, 1).components()[0]\n",
    "# H = AbelianStratum(7, 1).components()[0]\n",
    "\n",
    "# H = AbelianStratum(2, 2).components()[1]\n",
    "num_cylinders = 4\n",
    "num_classes = [2]\n",
    "\n",
    "\n",
    "diagram_list = list(C.get_iterator(H, num_cylinders))\n",
    "print(len(diagram_list))"
   ]
  },
  {
   "cell_type": "code",
   "execution_count": 3,
   "metadata": {},
   "outputs": [
    {
     "name": "stdout",
     "output_type": "stream",
     "text": [
      "(0,3)-(5) (1)-(0) (2,5)-(3,4) (4)-(1,2)\n",
      "(0,1)-(0,5) (2)-(4) (3,4)-(1) (5)-(2,3)\n",
      "(0,5)-(3,4) (1,4)-(2,5) (2)-(0) (3)-(1)\n",
      "(0,3)-(0,5) (1,2)-(1,4) (4)-(3) (5)-(2)\n",
      "(0,2,1)-(3,4,5) (3)-(1) (4)-(2) (5)-(0)\n"
     ]
    }
   ],
   "source": [
    "for cd in diagram_list:\n",
    "    print(cd)"
   ]
  },
  {
   "cell_type": "code",
   "execution_count": 4,
   "metadata": {},
   "outputs": [
    {
     "name": "stdout",
     "output_type": "stream",
     "text": [
      "(0,5)-(3,4) (1,4)-(2,5) (2)-(0) (3)-(1)\n"
     ]
    },
    {
     "data": {
      "text/plain": [
       "[[0, 1]]"
      ]
     },
     "execution_count": 4,
     "metadata": {},
     "output_type": "execute_result"
    }
   ],
   "source": [
    "cd = diagram_list[2]\n",
    "print(cd)\n",
    "find_homologous_cylinders(cd)"
   ]
  },
  {
   "cell_type": "code",
   "execution_count": 5,
   "metadata": {},
   "outputs": [
    {
     "data": {
      "text/plain": [
       "[{{0, 1}, {2}, {3}}]"
      ]
     },
     "execution_count": 5,
     "metadata": {},
     "output_type": "execute_result"
    }
   ],
   "source": [
    "part = list_partitions(4, 3)\n",
    "check_homologous_cylinders(cd, part)"
   ]
  },
  {
   "cell_type": "code",
   "execution_count": 6,
   "metadata": {},
   "outputs": [
    {
     "data": {
      "text/plain": [
       "[{{0}, {1}, {2, 3}}]"
      ]
     },
     "execution_count": 6,
     "metadata": {},
     "output_type": "execute_result"
    }
   ],
   "source": [
    "check_twist_rel(Twist(cd), 3, part)"
   ]
  },
  {
   "cell_type": "code",
   "execution_count": null,
   "metadata": {},
   "outputs": [],
   "source": []
  }
 ],
 "metadata": {
  "kernelspec": {
   "display_name": "SageMath 9.7",
   "language": "sage",
   "name": "SageMath-9.7"
  },
  "language_info": {
   "codemirror_mode": {
    "name": "ipython",
    "version": 3
   },
   "file_extension": ".py",
   "mimetype": "text/x-python",
   "name": "python",
   "nbconvert_exporter": "python",
   "pygments_lexer": "ipython3",
   "version": "3.10.5"
  },
  "orig_nbformat": 4,
  "vscode": {
   "interpreter": {
    "hash": "4610a6e9e9f54719a1d0c8c7cc71b7522e637806fc40bde680b42ac3815c3c21"
   }
  }
 },
 "nbformat": 4,
 "nbformat_minor": 2
}

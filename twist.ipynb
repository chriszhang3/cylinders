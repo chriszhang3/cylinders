{
 "cells": [
  {
   "cell_type": "code",
   "execution_count": 1,
   "metadata": {},
   "outputs": [],
   "source": [
    "from surface_dynamics.databases.flat_surfaces import CylinderDiagrams\n",
    "from surface_dynamics import AbelianStratum\n",
    "from utils import partitions, check_pants_relations, Twist, check_twist_rel"
   ]
  },
  {
   "cell_type": "code",
   "execution_count": 2,
   "metadata": {},
   "outputs": [
    {
     "name": "stdout",
     "output_type": "stream",
     "text": [
      "4\n"
     ]
    }
   ],
   "source": [
    "C = CylinderDiagrams()\n",
    "H = AbelianStratum(3, 1).components()[0]\n",
    "# H = AbelianStratum(2, 2).components()[1]\n",
    "# H = AbelianStratum(2, 1, 1).components()[0]\n",
    "# H = AbelianStratum(1, 1, 1, 1).components()[0]\n",
    "# H = AbelianStratum(7, 1).components()[0]\n",
    "\n",
    "# H = AbelianStratum(2, 2).components()[1]\n",
    "num_cylinders = 4\n",
    "num_classes = [2]\n",
    "\n",
    "\n",
    "diagram_list = list(C.get_iterator(H, num_cylinders))\n",
    "print(len(diagram_list))"
   ]
  },
  {
   "cell_type": "code",
   "execution_count": 6,
   "metadata": {},
   "outputs": [
    {
     "name": "stdout",
     "output_type": "stream",
     "text": [
      "(0)-(2) (1,2,3)-(4,5) (4)-(3) (5)-(0,1)\n",
      "[{{0}, {1}, {2, 3}}] <class 'sage.combinat.set_partition.SetPartitions_setparts_with_category.element_class'> <class 'frozenset'>\n",
      "(0,3)-(5) (1)-(2) (2,5)-(3,4) (4)-(0,1)\n",
      "[{{0, 1}, {2}, {3}}] <class 'sage.combinat.set_partition.SetPartitions_setparts_with_category.element_class'> <class 'frozenset'>\n",
      "(0,1)-(0,2) (2)-(3) (3,4)-(1,5) (5)-(4)\n",
      "[{{0}, {1, 3}, {2}}] <class 'sage.combinat.set_partition.SetPartitions_setparts_with_category.element_class'> <class 'frozenset'>\n",
      "(0,1)-(0,4,5) (2,3)-(1) (4)-(2) (5)-(3)\n",
      "[{{0}, {1}, {2, 3}}] <class 'sage.combinat.set_partition.SetPartitions_setparts_with_category.element_class'> <class 'frozenset'>\n"
     ]
    }
   ],
   "source": [
    "for cd in diagram_list:\n",
    "    print(cd)\n",
    "    tw = Twist(cd)\n",
    "    part = check_twist_rel(tw, 3, partitions(4, 3))\n",
    "    print(part, type(part[0]), type(part[0][0]))"
   ]
  },
  {
   "cell_type": "code",
   "execution_count": null,
   "metadata": {},
   "outputs": [],
   "source": []
  }
 ],
 "metadata": {
  "kernelspec": {
   "display_name": "SageMath 9.7",
   "language": "sage",
   "name": "SageMath-9.7"
  },
  "language_info": {
   "codemirror_mode": {
    "name": "ipython",
    "version": 3
   },
   "file_extension": ".py",
   "mimetype": "text/x-python",
   "name": "python",
   "nbconvert_exporter": "python",
   "pygments_lexer": "ipython3",
   "version": "3.10.5"
  },
  "orig_nbformat": 4,
  "vscode": {
   "interpreter": {
    "hash": "4610a6e9e9f54719a1d0c8c7cc71b7522e637806fc40bde680b42ac3815c3c21"
   }
  }
 },
 "nbformat": 4,
 "nbformat_minor": 2
}
